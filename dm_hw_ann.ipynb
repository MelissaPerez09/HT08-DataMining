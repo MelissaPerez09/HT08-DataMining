{
  "cells": [
    {
      "cell_type": "markdown",
      "metadata": {
        "id": "OP3aZqm1vgbE"
      },
      "source": [
        "# Data Mining - Redes Neuronales Artificiales 🧠"
      ]
    },
    {
      "cell_type": "markdown",
      "metadata": {
        "id": "L_tLmbgXvsUA"
      },
      "source": [
        "**Authors:** [Melissa Perez](https://github.com/MelissaPerez09), [Adrian Flores](https://github.com/adrianRFlores), [Andrea Ramirez](https://github.com/Andrea-gt)\n",
        "\n",
        "**Description:**"
      ]
    },
    {
      "cell_type": "markdown",
      "metadata": {
        "id": "Gg5PPzeSvxiN"
      },
      "source": [
        "## Import Libraries ⬇️"
      ]
    },
    {
      "cell_type": "code",
      "execution_count": 1,
      "metadata": {
        "id": "y0Nm0hlVDz1S"
      },
      "outputs": [
        {
          "name": "stderr",
          "output_type": "stream",
          "text": [
            "2024-05-06 10:42:53.407161: I external/local_tsl/tsl/cuda/cudart_stub.cc:32] Could not find cuda drivers on your machine, GPU will not be used.\n",
            "2024-05-06 10:42:53.431142: I external/local_tsl/tsl/cuda/cudart_stub.cc:32] Could not find cuda drivers on your machine, GPU will not be used.\n",
            "2024-05-06 10:42:53.550262: I tensorflow/core/platform/cpu_feature_guard.cc:210] This TensorFlow binary is optimized to use available CPU instructions in performance-critical operations.\n",
            "To enable the following instructions: AVX2 FMA, in other operations, rebuild TensorFlow with the appropriate compiler flags.\n",
            "2024-05-06 10:42:55.641608: W tensorflow/compiler/tf2tensorrt/utils/py_utils.cc:38] TF-TRT Warning: Could not find TensorRT\n"
          ]
        }
      ],
      "source": [
        "# Standard libraries\n",
        "import time\n",
        "import warnings\n",
        "warnings.filterwarnings('ignore')\n",
        "\n",
        "# Data manipulation and visualization\n",
        "import matplotlib.pyplot as plt\n",
        "import numpy as np\n",
        "import pandas as pd\n",
        "import seaborn as sns\n",
        "\n",
        "# Machine learning models and tools\n",
        "from sklearn.model_selection import train_test_split, cross_val_score, cross_val_predict, GridSearchCV\n",
        "from sklearn.preprocessing import StandardScaler, OrdinalEncoder\n",
        "from sklearn.neural_network import MLPClassifier\n",
        "from sklearn.metrics import (confusion_matrix, accuracy_score, precision_score,\n",
        "                             recall_score, mean_squared_error, mean_absolute_error,\n",
        "                             r2_score, classification_report, f1_score, ConfusionMatrixDisplay)\n",
        "from sklearn.preprocessing import StandardScaler\n",
        "from sklearn.model_selection import learning_curve\n",
        "\n",
        "from sklearn.impute import SimpleImputer\n",
        "from sklearn.compose import ColumnTransformer\n",
        "from sklearn.pipeline import Pipeline\n",
        "from tensorflow.keras.models import Sequential\n",
        "from tensorflow.keras.layers import Dense\n",
        "from tensorflow.keras.optimizers import Adam\n",
        "\n",
        "# Set matplotlib inline\n",
        "%matplotlib inline\n",
        "\n",
        "# Set random state\n",
        "random_state = 42\n",
        "\n",
        "# Set default figure size\n",
        "plt.rcParams['figure.figsize'] = (6, 4)"
      ]
    },
    {
      "cell_type": "markdown",
      "metadata": {
        "id": "xR1SLvr1v4Sc"
      },
      "source": [
        "## Data Upload 📄"
      ]
    },
    {
      "cell_type": "code",
      "execution_count": 2,
      "metadata": {
        "colab": {
          "base_uri": "https://localhost:8080/",
          "height": 443
        },
        "id": "Y03RhrTmD6GB",
        "outputId": "324b3f96-6e20-4789-bec9-c0174ec348dc"
      },
      "outputs": [
        {
          "data": {
            "text/html": [
              "<div>\n",
              "<style scoped>\n",
              "    .dataframe tbody tr th:only-of-type {\n",
              "        vertical-align: middle;\n",
              "    }\n",
              "\n",
              "    .dataframe tbody tr th {\n",
              "        vertical-align: top;\n",
              "    }\n",
              "\n",
              "    .dataframe thead th {\n",
              "        text-align: right;\n",
              "    }\n",
              "</style>\n",
              "<table border=\"1\" class=\"dataframe\">\n",
              "  <thead>\n",
              "    <tr style=\"text-align: right;\">\n",
              "      <th></th>\n",
              "      <th>Id</th>\n",
              "      <th>MSSubClass</th>\n",
              "      <th>MSZoning</th>\n",
              "      <th>LotFrontage</th>\n",
              "      <th>LotArea</th>\n",
              "      <th>Street</th>\n",
              "      <th>Alley</th>\n",
              "      <th>LotShape</th>\n",
              "      <th>LandContour</th>\n",
              "      <th>Utilities</th>\n",
              "      <th>...</th>\n",
              "      <th>PoolArea</th>\n",
              "      <th>PoolQC</th>\n",
              "      <th>Fence</th>\n",
              "      <th>MiscFeature</th>\n",
              "      <th>MiscVal</th>\n",
              "      <th>MoSold</th>\n",
              "      <th>YrSold</th>\n",
              "      <th>SaleType</th>\n",
              "      <th>SaleCondition</th>\n",
              "      <th>SalePrice</th>\n",
              "    </tr>\n",
              "  </thead>\n",
              "  <tbody>\n",
              "    <tr>\n",
              "      <th>0</th>\n",
              "      <td>1</td>\n",
              "      <td>60</td>\n",
              "      <td>RL</td>\n",
              "      <td>65.0</td>\n",
              "      <td>8450</td>\n",
              "      <td>Pave</td>\n",
              "      <td>NaN</td>\n",
              "      <td>Reg</td>\n",
              "      <td>Lvl</td>\n",
              "      <td>AllPub</td>\n",
              "      <td>...</td>\n",
              "      <td>0</td>\n",
              "      <td>NaN</td>\n",
              "      <td>NaN</td>\n",
              "      <td>NaN</td>\n",
              "      <td>0</td>\n",
              "      <td>2</td>\n",
              "      <td>2008</td>\n",
              "      <td>WD</td>\n",
              "      <td>Normal</td>\n",
              "      <td>208500</td>\n",
              "    </tr>\n",
              "    <tr>\n",
              "      <th>1</th>\n",
              "      <td>2</td>\n",
              "      <td>20</td>\n",
              "      <td>RL</td>\n",
              "      <td>80.0</td>\n",
              "      <td>9600</td>\n",
              "      <td>Pave</td>\n",
              "      <td>NaN</td>\n",
              "      <td>Reg</td>\n",
              "      <td>Lvl</td>\n",
              "      <td>AllPub</td>\n",
              "      <td>...</td>\n",
              "      <td>0</td>\n",
              "      <td>NaN</td>\n",
              "      <td>NaN</td>\n",
              "      <td>NaN</td>\n",
              "      <td>0</td>\n",
              "      <td>5</td>\n",
              "      <td>2007</td>\n",
              "      <td>WD</td>\n",
              "      <td>Normal</td>\n",
              "      <td>181500</td>\n",
              "    </tr>\n",
              "    <tr>\n",
              "      <th>2</th>\n",
              "      <td>3</td>\n",
              "      <td>60</td>\n",
              "      <td>RL</td>\n",
              "      <td>68.0</td>\n",
              "      <td>11250</td>\n",
              "      <td>Pave</td>\n",
              "      <td>NaN</td>\n",
              "      <td>IR1</td>\n",
              "      <td>Lvl</td>\n",
              "      <td>AllPub</td>\n",
              "      <td>...</td>\n",
              "      <td>0</td>\n",
              "      <td>NaN</td>\n",
              "      <td>NaN</td>\n",
              "      <td>NaN</td>\n",
              "      <td>0</td>\n",
              "      <td>9</td>\n",
              "      <td>2008</td>\n",
              "      <td>WD</td>\n",
              "      <td>Normal</td>\n",
              "      <td>223500</td>\n",
              "    </tr>\n",
              "    <tr>\n",
              "      <th>3</th>\n",
              "      <td>4</td>\n",
              "      <td>70</td>\n",
              "      <td>RL</td>\n",
              "      <td>60.0</td>\n",
              "      <td>9550</td>\n",
              "      <td>Pave</td>\n",
              "      <td>NaN</td>\n",
              "      <td>IR1</td>\n",
              "      <td>Lvl</td>\n",
              "      <td>AllPub</td>\n",
              "      <td>...</td>\n",
              "      <td>0</td>\n",
              "      <td>NaN</td>\n",
              "      <td>NaN</td>\n",
              "      <td>NaN</td>\n",
              "      <td>0</td>\n",
              "      <td>2</td>\n",
              "      <td>2006</td>\n",
              "      <td>WD</td>\n",
              "      <td>Abnorml</td>\n",
              "      <td>140000</td>\n",
              "    </tr>\n",
              "    <tr>\n",
              "      <th>4</th>\n",
              "      <td>5</td>\n",
              "      <td>60</td>\n",
              "      <td>RL</td>\n",
              "      <td>84.0</td>\n",
              "      <td>14260</td>\n",
              "      <td>Pave</td>\n",
              "      <td>NaN</td>\n",
              "      <td>IR1</td>\n",
              "      <td>Lvl</td>\n",
              "      <td>AllPub</td>\n",
              "      <td>...</td>\n",
              "      <td>0</td>\n",
              "      <td>NaN</td>\n",
              "      <td>NaN</td>\n",
              "      <td>NaN</td>\n",
              "      <td>0</td>\n",
              "      <td>12</td>\n",
              "      <td>2008</td>\n",
              "      <td>WD</td>\n",
              "      <td>Normal</td>\n",
              "      <td>250000</td>\n",
              "    </tr>\n",
              "    <tr>\n",
              "      <th>...</th>\n",
              "      <td>...</td>\n",
              "      <td>...</td>\n",
              "      <td>...</td>\n",
              "      <td>...</td>\n",
              "      <td>...</td>\n",
              "      <td>...</td>\n",
              "      <td>...</td>\n",
              "      <td>...</td>\n",
              "      <td>...</td>\n",
              "      <td>...</td>\n",
              "      <td>...</td>\n",
              "      <td>...</td>\n",
              "      <td>...</td>\n",
              "      <td>...</td>\n",
              "      <td>...</td>\n",
              "      <td>...</td>\n",
              "      <td>...</td>\n",
              "      <td>...</td>\n",
              "      <td>...</td>\n",
              "      <td>...</td>\n",
              "      <td>...</td>\n",
              "    </tr>\n",
              "    <tr>\n",
              "      <th>1455</th>\n",
              "      <td>1456</td>\n",
              "      <td>60</td>\n",
              "      <td>RL</td>\n",
              "      <td>62.0</td>\n",
              "      <td>7917</td>\n",
              "      <td>Pave</td>\n",
              "      <td>NaN</td>\n",
              "      <td>Reg</td>\n",
              "      <td>Lvl</td>\n",
              "      <td>AllPub</td>\n",
              "      <td>...</td>\n",
              "      <td>0</td>\n",
              "      <td>NaN</td>\n",
              "      <td>NaN</td>\n",
              "      <td>NaN</td>\n",
              "      <td>0</td>\n",
              "      <td>8</td>\n",
              "      <td>2007</td>\n",
              "      <td>WD</td>\n",
              "      <td>Normal</td>\n",
              "      <td>175000</td>\n",
              "    </tr>\n",
              "    <tr>\n",
              "      <th>1456</th>\n",
              "      <td>1457</td>\n",
              "      <td>20</td>\n",
              "      <td>RL</td>\n",
              "      <td>85.0</td>\n",
              "      <td>13175</td>\n",
              "      <td>Pave</td>\n",
              "      <td>NaN</td>\n",
              "      <td>Reg</td>\n",
              "      <td>Lvl</td>\n",
              "      <td>AllPub</td>\n",
              "      <td>...</td>\n",
              "      <td>0</td>\n",
              "      <td>NaN</td>\n",
              "      <td>MnPrv</td>\n",
              "      <td>NaN</td>\n",
              "      <td>0</td>\n",
              "      <td>2</td>\n",
              "      <td>2010</td>\n",
              "      <td>WD</td>\n",
              "      <td>Normal</td>\n",
              "      <td>210000</td>\n",
              "    </tr>\n",
              "    <tr>\n",
              "      <th>1457</th>\n",
              "      <td>1458</td>\n",
              "      <td>70</td>\n",
              "      <td>RL</td>\n",
              "      <td>66.0</td>\n",
              "      <td>9042</td>\n",
              "      <td>Pave</td>\n",
              "      <td>NaN</td>\n",
              "      <td>Reg</td>\n",
              "      <td>Lvl</td>\n",
              "      <td>AllPub</td>\n",
              "      <td>...</td>\n",
              "      <td>0</td>\n",
              "      <td>NaN</td>\n",
              "      <td>GdPrv</td>\n",
              "      <td>Shed</td>\n",
              "      <td>2500</td>\n",
              "      <td>5</td>\n",
              "      <td>2010</td>\n",
              "      <td>WD</td>\n",
              "      <td>Normal</td>\n",
              "      <td>266500</td>\n",
              "    </tr>\n",
              "    <tr>\n",
              "      <th>1458</th>\n",
              "      <td>1459</td>\n",
              "      <td>20</td>\n",
              "      <td>RL</td>\n",
              "      <td>68.0</td>\n",
              "      <td>9717</td>\n",
              "      <td>Pave</td>\n",
              "      <td>NaN</td>\n",
              "      <td>Reg</td>\n",
              "      <td>Lvl</td>\n",
              "      <td>AllPub</td>\n",
              "      <td>...</td>\n",
              "      <td>0</td>\n",
              "      <td>NaN</td>\n",
              "      <td>NaN</td>\n",
              "      <td>NaN</td>\n",
              "      <td>0</td>\n",
              "      <td>4</td>\n",
              "      <td>2010</td>\n",
              "      <td>WD</td>\n",
              "      <td>Normal</td>\n",
              "      <td>142125</td>\n",
              "    </tr>\n",
              "    <tr>\n",
              "      <th>1459</th>\n",
              "      <td>1460</td>\n",
              "      <td>20</td>\n",
              "      <td>RL</td>\n",
              "      <td>75.0</td>\n",
              "      <td>9937</td>\n",
              "      <td>Pave</td>\n",
              "      <td>NaN</td>\n",
              "      <td>Reg</td>\n",
              "      <td>Lvl</td>\n",
              "      <td>AllPub</td>\n",
              "      <td>...</td>\n",
              "      <td>0</td>\n",
              "      <td>NaN</td>\n",
              "      <td>NaN</td>\n",
              "      <td>NaN</td>\n",
              "      <td>0</td>\n",
              "      <td>6</td>\n",
              "      <td>2008</td>\n",
              "      <td>WD</td>\n",
              "      <td>Normal</td>\n",
              "      <td>147500</td>\n",
              "    </tr>\n",
              "  </tbody>\n",
              "</table>\n",
              "<p>1460 rows × 81 columns</p>\n",
              "</div>"
            ],
            "text/plain": [
              "        Id  MSSubClass MSZoning  LotFrontage  LotArea Street Alley LotShape  \\\n",
              "0        1          60       RL         65.0     8450   Pave   NaN      Reg   \n",
              "1        2          20       RL         80.0     9600   Pave   NaN      Reg   \n",
              "2        3          60       RL         68.0    11250   Pave   NaN      IR1   \n",
              "3        4          70       RL         60.0     9550   Pave   NaN      IR1   \n",
              "4        5          60       RL         84.0    14260   Pave   NaN      IR1   \n",
              "...    ...         ...      ...          ...      ...    ...   ...      ...   \n",
              "1455  1456          60       RL         62.0     7917   Pave   NaN      Reg   \n",
              "1456  1457          20       RL         85.0    13175   Pave   NaN      Reg   \n",
              "1457  1458          70       RL         66.0     9042   Pave   NaN      Reg   \n",
              "1458  1459          20       RL         68.0     9717   Pave   NaN      Reg   \n",
              "1459  1460          20       RL         75.0     9937   Pave   NaN      Reg   \n",
              "\n",
              "     LandContour Utilities  ... PoolArea PoolQC  Fence MiscFeature MiscVal  \\\n",
              "0            Lvl    AllPub  ...        0    NaN    NaN         NaN       0   \n",
              "1            Lvl    AllPub  ...        0    NaN    NaN         NaN       0   \n",
              "2            Lvl    AllPub  ...        0    NaN    NaN         NaN       0   \n",
              "3            Lvl    AllPub  ...        0    NaN    NaN         NaN       0   \n",
              "4            Lvl    AllPub  ...        0    NaN    NaN         NaN       0   \n",
              "...          ...       ...  ...      ...    ...    ...         ...     ...   \n",
              "1455         Lvl    AllPub  ...        0    NaN    NaN         NaN       0   \n",
              "1456         Lvl    AllPub  ...        0    NaN  MnPrv         NaN       0   \n",
              "1457         Lvl    AllPub  ...        0    NaN  GdPrv        Shed    2500   \n",
              "1458         Lvl    AllPub  ...        0    NaN    NaN         NaN       0   \n",
              "1459         Lvl    AllPub  ...        0    NaN    NaN         NaN       0   \n",
              "\n",
              "     MoSold YrSold  SaleType  SaleCondition  SalePrice  \n",
              "0         2   2008        WD         Normal     208500  \n",
              "1         5   2007        WD         Normal     181500  \n",
              "2         9   2008        WD         Normal     223500  \n",
              "3         2   2006        WD        Abnorml     140000  \n",
              "4        12   2008        WD         Normal     250000  \n",
              "...     ...    ...       ...            ...        ...  \n",
              "1455      8   2007        WD         Normal     175000  \n",
              "1456      2   2010        WD         Normal     210000  \n",
              "1457      5   2010        WD         Normal     266500  \n",
              "1458      4   2010        WD         Normal     142125  \n",
              "1459      6   2008        WD         Normal     147500  \n",
              "\n",
              "[1460 rows x 81 columns]"
            ]
          },
          "execution_count": 2,
          "metadata": {},
          "output_type": "execute_result"
        }
      ],
      "source": [
        "df = pd.read_csv('./data/train.csv')\n",
        "df"
      ]
    },
    {
      "cell_type": "markdown",
      "metadata": {},
      "source": [
        "## Exploratory Analysis 🔎"
      ]
    },
    {
      "cell_type": "code",
      "execution_count": 3,
      "metadata": {},
      "outputs": [
        {
          "data": {
            "image/png": "[encoded data removed]",
            "text/plain": [
              "<Figure size 600x400 with 1 Axes>"
            ]
          },
          "metadata": {},
          "output_type": "display_data"
        }
      ],
      "source": [
        "sns.set_style(\"whitegrid\")\n",
        "\n",
        "# Plotting the histogram of 'SalePrice' column from DataFrame 'df'\n",
        "sns.histplot(x='SalePrice', data=df, kde=True, color='skyblue', binwidth=10000, alpha=0.7, edgecolor='black')\n",
        "\n",
        "# Plot settings\n",
        "plt.title('Distribution of Sale Prices', fontsize=14, fontweight='500')\n",
        "plt.xlabel('Sale Price', fontsize=12)\n",
        "plt.ylabel('Frequency', fontsize=12)\n",
        "plt.xticks(fontsize=10)\n",
        "plt.yticks(fontsize=10)\n",
        "\n",
        "# Calculating the mean of 'SalePrice' column\n",
        "mean_value = df['SalePrice'].mean()\n",
        "\n",
        "# Adding a vertical line representing the mean value\n",
        "plt.axvline(mean_value, color='r', linestyle='--', linewidth=2)\n",
        "\n",
        "# Adding text annotation for the mean value\n",
        "plt.text(mean_value, plt.ylim()[1]*0.9, '   Mean: {:.2f}'.format(mean_value), color='r', fontsize=12)\n",
        "\n",
        "plt.show()"
      ]
    },
    {
      "cell_type": "code",
      "execution_count": 4,
      "metadata": {},
      "outputs": [
        {
          "data": {
            "image/png": "[encoded data removed]",
            "text/plain": [
              "<Figure size 600x400 with 1 Axes>"
            ]
          },
          "metadata": {},
          "output_type": "display_data"
        }
      ],
      "source": [
        "sns.set_style(\"whitegrid\")\n",
        "\n",
        "# Plotting the boxplot of 'SalePrice' column from DataFrame 'df'\n",
        "sns.boxplot(x='SalePrice', data=df, color='skyblue')\n",
        "\n",
        "# Plot settings\n",
        "plt.title('Sale Price and Boxplot Analysis', fontsize=14, fontweight='500')\n",
        "plt.xlabel('Sale Price', fontsize=12)\n",
        "plt.xticks(fontsize=10)\n",
        "plt.yticks(fontsize=10)\n",
        "\n",
        "plt.show()"
      ]
    },
    {
      "cell_type": "markdown",
      "metadata": {
        "id": "wY1vhJPjENRb"
      },
      "source": [
        "## Data Preprocessing 🗂️"
      ]
    },
    {
      "cell_type": "markdown",
      "metadata": {
        "id": "teh89kV8EWur"
      },
      "source": [
        "### Handling Missing Values"
      ]
    },
    {
      "cell_type": "code",
      "execution_count": 5,
      "metadata": {
        "id": "e9FXY6y8hBor"
      },
      "outputs": [],
      "source": [
        "# Fill missing values in low NaN count columns\n",
        "df['Electrical'] = df['Electrical'].fillna('None')\n",
        "df['MasVnrType'] = df['MasVnrType'].fillna('None')\n",
        "df['MasVnrArea'] = df['MasVnrArea'].fillna(0)"
      ]
    },
    {
      "cell_type": "code",
      "execution_count": 6,
      "metadata": {
        "id": "CM9xd8brEc5Z"
      },
      "outputs": [],
      "source": [
        "# Impute missing LotFrontage values based on the median LotFrontage within each neighborhood.\n",
        "df['LotFrontage'] = df.groupby('Neighborhood')['LotFrontage'].transform(lambda x: x.fillna(x.median()))"
      ]
    },
    {
      "cell_type": "code",
      "execution_count": 7,
      "metadata": {
        "id": "Dcoe_ixtEfGg"
      },
      "outputs": [],
      "source": [
        "# Fill missing values in FireplaceQu with 'None'.\n",
        "df['FireplaceQu'] = df['FireplaceQu'].fillna('None')"
      ]
    },
    {
      "cell_type": "code",
      "execution_count": 8,
      "metadata": {
        "id": "_ZnDat3HEhSS"
      },
      "outputs": [],
      "source": [
        "# Fill missing values in garage-related variables with 'None'.\n",
        "df['GarageType'] = df['GarageType'].fillna('None')\n",
        "df['GarageYrBlt'] = df['GarageYrBlt'].fillna(0)\n",
        "df['GarageFinish'] = df['GarageFinish'].fillna('None')\n",
        "df['GarageQual'] = df['GarageQual'].fillna('None')\n",
        "df['GarageCond'] = df['GarageCond'].fillna('None')"
      ]
    },
    {
      "cell_type": "code",
      "execution_count": 9,
      "metadata": {
        "id": "trBPdczaEjdu"
      },
      "outputs": [],
      "source": [
        "# Fill missing values in basement-related variables with 'None'.\n",
        "df['BsmtQual'] = df['BsmtQual'].fillna('None')\n",
        "df['BsmtCond'] = df['BsmtCond'].fillna('None')\n",
        "df['BsmtExposure'] = df['BsmtExposure'].fillna('None')\n",
        "df['BsmtFinType1'] = df['BsmtFinType1'].fillna('None')\n",
        "df['BsmtFinType2'] = df['BsmtFinType2'].fillna('None')"
      ]
    },
    {
      "cell_type": "code",
      "execution_count": 10,
      "metadata": {
        "id": "kXcTKte0ElKf"
      },
      "outputs": [],
      "source": [
        "# Drop columns with a high count of missing values\n",
        "df.drop(['Alley', 'PoolQC', 'Fence', 'MiscFeature'], axis=1, inplace=True)"
      ]
    },
    {
      "cell_type": "code",
      "execution_count": 11,
      "metadata": {
        "colab": {
          "base_uri": "https://localhost:8080/"
        },
        "id": "sgT6Wf0Ogen_",
        "outputId": "1e64858c-1ef1-487a-bf02-f7102f477a34"
      },
      "outputs": [
        {
          "name": "stdout",
          "output_type": "stream",
          "text": [
            "No columns with NaN values found.\n"
          ]
        }
      ],
      "source": [
        "# Show columns with NaN values\n",
        "nullValues = df.isnull().sum()\n",
        "nullValues = nullValues[nullValues > 0]\n",
        "\n",
        "if not nullValues.empty:\n",
        "    print(\"Columns with NaN values:\")\n",
        "    print(\"-\" * 40)\n",
        "    for column, nans in nullValues.items():\n",
        "        print(f\"{column: <30} | {nans: >5} missing values\")\n",
        "    print(\"-\" * 40)\n",
        "else:\n",
        "    print(\"No columns with NaN values found.\")"
      ]
    },
    {
      "cell_type": "markdown",
      "metadata": {},
      "source": [
        "### Feature Engineering"
      ]
    },
    {
      "cell_type": "code",
      "execution_count": 12,
      "metadata": {},
      "outputs": [
        {
          "data": {
            "text/html": [
              "<div>\n",
              "<style scoped>\n",
              "    .dataframe tbody tr th:only-of-type {\n",
              "        vertical-align: middle;\n",
              "    }\n",
              "\n",
              "    .dataframe tbody tr th {\n",
              "        vertical-align: top;\n",
              "    }\n",
              "\n",
              "    .dataframe thead th {\n",
              "        text-align: right;\n",
              "    }\n",
              "</style>\n",
              "<table border=\"1\" class=\"dataframe\">\n",
              "  <thead>\n",
              "    <tr style=\"text-align: right;\">\n",
              "      <th></th>\n",
              "      <th>Id</th>\n",
              "      <th>MSSubClass</th>\n",
              "      <th>MSZoning</th>\n",
              "      <th>LotFrontage</th>\n",
              "      <th>LotArea</th>\n",
              "      <th>Street</th>\n",
              "      <th>LotShape</th>\n",
              "      <th>LandContour</th>\n",
              "      <th>Utilities</th>\n",
              "      <th>LotConfig</th>\n",
              "      <th>...</th>\n",
              "      <th>3SsnPorch</th>\n",
              "      <th>ScreenPorch</th>\n",
              "      <th>PoolArea</th>\n",
              "      <th>MiscVal</th>\n",
              "      <th>MoSold</th>\n",
              "      <th>YrSold</th>\n",
              "      <th>SaleType</th>\n",
              "      <th>SaleCondition</th>\n",
              "      <th>SalePrice</th>\n",
              "      <th>SalePriceCategory</th>\n",
              "    </tr>\n",
              "  </thead>\n",
              "  <tbody>\n",
              "    <tr>\n",
              "      <th>0</th>\n",
              "      <td>1</td>\n",
              "      <td>60</td>\n",
              "      <td>RL</td>\n",
              "      <td>65.0</td>\n",
              "      <td>8450</td>\n",
              "      <td>Pave</td>\n",
              "      <td>Reg</td>\n",
              "      <td>Lvl</td>\n",
              "      <td>AllPub</td>\n",
              "      <td>Inside</td>\n",
              "      <td>...</td>\n",
              "      <td>0</td>\n",
              "      <td>0</td>\n",
              "      <td>0</td>\n",
              "      <td>0</td>\n",
              "      <td>2</td>\n",
              "      <td>2008</td>\n",
              "      <td>WD</td>\n",
              "      <td>Normal</td>\n",
              "      <td>208500</td>\n",
              "      <td>1</td>\n",
              "    </tr>\n",
              "    <tr>\n",
              "      <th>1</th>\n",
              "      <td>2</td>\n",
              "      <td>20</td>\n",
              "      <td>RL</td>\n",
              "      <td>80.0</td>\n",
              "      <td>9600</td>\n",
              "      <td>Pave</td>\n",
              "      <td>Reg</td>\n",
              "      <td>Lvl</td>\n",
              "      <td>AllPub</td>\n",
              "      <td>FR2</td>\n",
              "      <td>...</td>\n",
              "      <td>0</td>\n",
              "      <td>0</td>\n",
              "      <td>0</td>\n",
              "      <td>0</td>\n",
              "      <td>5</td>\n",
              "      <td>2007</td>\n",
              "      <td>WD</td>\n",
              "      <td>Normal</td>\n",
              "      <td>181500</td>\n",
              "      <td>1</td>\n",
              "    </tr>\n",
              "    <tr>\n",
              "      <th>2</th>\n",
              "      <td>3</td>\n",
              "      <td>60</td>\n",
              "      <td>RL</td>\n",
              "      <td>68.0</td>\n",
              "      <td>11250</td>\n",
              "      <td>Pave</td>\n",
              "      <td>IR1</td>\n",
              "      <td>Lvl</td>\n",
              "      <td>AllPub</td>\n",
              "      <td>Inside</td>\n",
              "      <td>...</td>\n",
              "      <td>0</td>\n",
              "      <td>0</td>\n",
              "      <td>0</td>\n",
              "      <td>0</td>\n",
              "      <td>9</td>\n",
              "      <td>2008</td>\n",
              "      <td>WD</td>\n",
              "      <td>Normal</td>\n",
              "      <td>223500</td>\n",
              "      <td>1</td>\n",
              "    </tr>\n",
              "    <tr>\n",
              "      <th>3</th>\n",
              "      <td>4</td>\n",
              "      <td>70</td>\n",
              "      <td>RL</td>\n",
              "      <td>60.0</td>\n",
              "      <td>9550</td>\n",
              "      <td>Pave</td>\n",
              "      <td>IR1</td>\n",
              "      <td>Lvl</td>\n",
              "      <td>AllPub</td>\n",
              "      <td>Corner</td>\n",
              "      <td>...</td>\n",
              "      <td>0</td>\n",
              "      <td>0</td>\n",
              "      <td>0</td>\n",
              "      <td>0</td>\n",
              "      <td>2</td>\n",
              "      <td>2006</td>\n",
              "      <td>WD</td>\n",
              "      <td>Abnorml</td>\n",
              "      <td>140000</td>\n",
              "      <td>0</td>\n",
              "    </tr>\n",
              "    <tr>\n",
              "      <th>4</th>\n",
              "      <td>5</td>\n",
              "      <td>60</td>\n",
              "      <td>RL</td>\n",
              "      <td>84.0</td>\n",
              "      <td>14260</td>\n",
              "      <td>Pave</td>\n",
              "      <td>IR1</td>\n",
              "      <td>Lvl</td>\n",
              "      <td>AllPub</td>\n",
              "      <td>FR2</td>\n",
              "      <td>...</td>\n",
              "      <td>0</td>\n",
              "      <td>0</td>\n",
              "      <td>0</td>\n",
              "      <td>0</td>\n",
              "      <td>12</td>\n",
              "      <td>2008</td>\n",
              "      <td>WD</td>\n",
              "      <td>Normal</td>\n",
              "      <td>250000</td>\n",
              "      <td>1</td>\n",
              "    </tr>\n",
              "    <tr>\n",
              "      <th>...</th>\n",
              "      <td>...</td>\n",
              "      <td>...</td>\n",
              "      <td>...</td>\n",
              "      <td>...</td>\n",
              "      <td>...</td>\n",
              "      <td>...</td>\n",
              "      <td>...</td>\n",
              "      <td>...</td>\n",
              "      <td>...</td>\n",
              "      <td>...</td>\n",
              "      <td>...</td>\n",
              "      <td>...</td>\n",
              "      <td>...</td>\n",
              "      <td>...</td>\n",
              "      <td>...</td>\n",
              "      <td>...</td>\n",
              "      <td>...</td>\n",
              "      <td>...</td>\n",
              "      <td>...</td>\n",
              "      <td>...</td>\n",
              "      <td>...</td>\n",
              "    </tr>\n",
              "    <tr>\n",
              "      <th>1455</th>\n",
              "      <td>1456</td>\n",
              "      <td>60</td>\n",
              "      <td>RL</td>\n",
              "      <td>62.0</td>\n",
              "      <td>7917</td>\n",
              "      <td>Pave</td>\n",
              "      <td>Reg</td>\n",
              "      <td>Lvl</td>\n",
              "      <td>AllPub</td>\n",
              "      <td>Inside</td>\n",
              "      <td>...</td>\n",
              "      <td>0</td>\n",
              "      <td>0</td>\n",
              "      <td>0</td>\n",
              "      <td>0</td>\n",
              "      <td>8</td>\n",
              "      <td>2007</td>\n",
              "      <td>WD</td>\n",
              "      <td>Normal</td>\n",
              "      <td>175000</td>\n",
              "      <td>1</td>\n",
              "    </tr>\n",
              "    <tr>\n",
              "      <th>1456</th>\n",
              "      <td>1457</td>\n",
              "      <td>20</td>\n",
              "      <td>RL</td>\n",
              "      <td>85.0</td>\n",
              "      <td>13175</td>\n",
              "      <td>Pave</td>\n",
              "      <td>Reg</td>\n",
              "      <td>Lvl</td>\n",
              "      <td>AllPub</td>\n",
              "      <td>Inside</td>\n",
              "      <td>...</td>\n",
              "      <td>0</td>\n",
              "      <td>0</td>\n",
              "      <td>0</td>\n",
              "      <td>0</td>\n",
              "      <td>2</td>\n",
              "      <td>2010</td>\n",
              "      <td>WD</td>\n",
              "      <td>Normal</td>\n",
              "      <td>210000</td>\n",
              "      <td>1</td>\n",
              "    </tr>\n",
              "    <tr>\n",
              "      <th>1457</th>\n",
              "      <td>1458</td>\n",
              "      <td>70</td>\n",
              "      <td>RL</td>\n",
              "      <td>66.0</td>\n",
              "      <td>9042</td>\n",
              "      <td>Pave</td>\n",
              "      <td>Reg</td>\n",
              "      <td>Lvl</td>\n",
              "      <td>AllPub</td>\n",
              "      <td>Inside</td>\n",
              "      <td>...</td>\n",
              "      <td>0</td>\n",
              "      <td>0</td>\n",
              "      <td>0</td>\n",
              "      <td>2500</td>\n",
              "      <td>5</td>\n",
              "      <td>2010</td>\n",
              "      <td>WD</td>\n",
              "      <td>Normal</td>\n",
              "      <td>266500</td>\n",
              "      <td>2</td>\n",
              "    </tr>\n",
              "    <tr>\n",
              "      <th>1458</th>\n",
              "      <td>1459</td>\n",
              "      <td>20</td>\n",
              "      <td>RL</td>\n",
              "      <td>68.0</td>\n",
              "      <td>9717</td>\n",
              "      <td>Pave</td>\n",
              "      <td>Reg</td>\n",
              "      <td>Lvl</td>\n",
              "      <td>AllPub</td>\n",
              "      <td>Inside</td>\n",
              "      <td>...</td>\n",
              "      <td>0</td>\n",
              "      <td>0</td>\n",
              "      <td>0</td>\n",
              "      <td>0</td>\n",
              "      <td>4</td>\n",
              "      <td>2010</td>\n",
              "      <td>WD</td>\n",
              "      <td>Normal</td>\n",
              "      <td>142125</td>\n",
              "      <td>0</td>\n",
              "    </tr>\n",
              "    <tr>\n",
              "      <th>1459</th>\n",
              "      <td>1460</td>\n",
              "      <td>20</td>\n",
              "      <td>RL</td>\n",
              "      <td>75.0</td>\n",
              "      <td>9937</td>\n",
              "      <td>Pave</td>\n",
              "      <td>Reg</td>\n",
              "      <td>Lvl</td>\n",
              "      <td>AllPub</td>\n",
              "      <td>Inside</td>\n",
              "      <td>...</td>\n",
              "      <td>0</td>\n",
              "      <td>0</td>\n",
              "      <td>0</td>\n",
              "      <td>0</td>\n",
              "      <td>6</td>\n",
              "      <td>2008</td>\n",
              "      <td>WD</td>\n",
              "      <td>Normal</td>\n",
              "      <td>147500</td>\n",
              "      <td>0</td>\n",
              "    </tr>\n",
              "  </tbody>\n",
              "</table>\n",
              "<p>1460 rows × 78 columns</p>\n",
              "</div>"
            ],
            "text/plain": [
              "        Id  MSSubClass MSZoning  LotFrontage  LotArea Street LotShape  \\\n",
              "0        1          60       RL         65.0     8450   Pave      Reg   \n",
              "1        2          20       RL         80.0     9600   Pave      Reg   \n",
              "2        3          60       RL         68.0    11250   Pave      IR1   \n",
              "3        4          70       RL         60.0     9550   Pave      IR1   \n",
              "4        5          60       RL         84.0    14260   Pave      IR1   \n",
              "...    ...         ...      ...          ...      ...    ...      ...   \n",
              "1455  1456          60       RL         62.0     7917   Pave      Reg   \n",
              "1456  1457          20       RL         85.0    13175   Pave      Reg   \n",
              "1457  1458          70       RL         66.0     9042   Pave      Reg   \n",
              "1458  1459          20       RL         68.0     9717   Pave      Reg   \n",
              "1459  1460          20       RL         75.0     9937   Pave      Reg   \n",
              "\n",
              "     LandContour Utilities LotConfig  ... 3SsnPorch ScreenPorch PoolArea  \\\n",
              "0            Lvl    AllPub    Inside  ...         0           0        0   \n",
              "1            Lvl    AllPub       FR2  ...         0           0        0   \n",
              "2            Lvl    AllPub    Inside  ...         0           0        0   \n",
              "3            Lvl    AllPub    Corner  ...         0           0        0   \n",
              "4            Lvl    AllPub       FR2  ...         0           0        0   \n",
              "...          ...       ...       ...  ...       ...         ...      ...   \n",
              "1455         Lvl    AllPub    Inside  ...         0           0        0   \n",
              "1456         Lvl    AllPub    Inside  ...         0           0        0   \n",
              "1457         Lvl    AllPub    Inside  ...         0           0        0   \n",
              "1458         Lvl    AllPub    Inside  ...         0           0        0   \n",
              "1459         Lvl    AllPub    Inside  ...         0           0        0   \n",
              "\n",
              "     MiscVal MoSold YrSold  SaleType  SaleCondition  SalePrice  \\\n",
              "0          0      2   2008        WD         Normal     208500   \n",
              "1          0      5   2007        WD         Normal     181500   \n",
              "2          0      9   2008        WD         Normal     223500   \n",
              "3          0      2   2006        WD        Abnorml     140000   \n",
              "4          0     12   2008        WD         Normal     250000   \n",
              "...      ...    ...    ...       ...            ...        ...   \n",
              "1455       0      8   2007        WD         Normal     175000   \n",
              "1456       0      2   2010        WD         Normal     210000   \n",
              "1457    2500      5   2010        WD         Normal     266500   \n",
              "1458       0      4   2010        WD         Normal     142125   \n",
              "1459       0      6   2008        WD         Normal     147500   \n",
              "\n",
              "      SalePriceCategory  \n",
              "0                     1  \n",
              "1                     1  \n",
              "2                     1  \n",
              "3                     0  \n",
              "4                     1  \n",
              "...                 ...  \n",
              "1455                  1  \n",
              "1456                  1  \n",
              "1457                  2  \n",
              "1458                  0  \n",
              "1459                  0  \n",
              "\n",
              "[1460 rows x 78 columns]"
            ]
          },
          "execution_count": 12,
          "metadata": {},
          "output_type": "execute_result"
        }
      ],
      "source": [
        "# Define conditions for categorizing SalePrice\n",
        "conditions = [\n",
        "    (df['SalePrice'] < 150000),\n",
        "    (df['SalePrice'] >= 150000) & (df['SalePrice'] <= 250000),\n",
        "    (df['SalePrice'] > 250000)\n",
        "]\n",
        "\n",
        "# Define labels for the categories\n",
        "labels = [0, 1, 2]\n",
        "\n",
        "# Create a new column 'SalePriceCategory' based on the conditions and labels\n",
        "df['SalePriceCategory'] = np.select(conditions, labels)\n",
        "\n",
        "df"
      ]
    },
    {
      "cell_type": "markdown",
      "metadata": {
        "id": "tFgS5OUqEqHU"
      },
      "source": [
        "### Encoding"
      ]
    },
    {
      "cell_type": "code",
      "execution_count": 13,
      "metadata": {
        "id": "MjWLQJHSEmqQ"
      },
      "outputs": [],
      "source": [
        "# Columns to encode, separated by feature category\n",
        "nominalFeatures = ['MSZoning', 'Street', 'LotShape', 'LandContour', 'Utilities', 'LotConfig',\n",
        "                    'LandSlope', 'Neighborhood', 'Condition1', 'Condition2', 'BldgType', 'HouseStyle',\n",
        "                    'RoofStyle', 'RoofMatl', 'Exterior1st', 'Exterior2nd', 'MasVnrType', 'Foundation',\n",
        "                    'Heating', 'CentralAir', 'Electrical', 'GarageType', 'SaleType',\n",
        "                    'SaleCondition','PavedDrive']\n",
        "\n",
        "ordinalFeatures = ['ExterQual', 'ExterCond', 'BsmtQual', 'BsmtCond', 'HeatingQC', 'KitchenQual','FireplaceQu',\n",
        "                    'GarageQual', 'GarageCond']\n",
        "\n",
        "otherOrdinalFeatures = ['BsmtExposure', 'BsmtFinType1', 'BsmtFinType2', 'Functional', 'GarageFinish']"
      ]
    },
    {
      "cell_type": "code",
      "execution_count": 14,
      "metadata": {
        "id": "mEdhATWcEtDg"
      },
      "outputs": [],
      "source": [
        "# Convert nominal features into dummy variables\n",
        "df = pd.get_dummies(df, columns = nominalFeatures)"
      ]
    },
    {
      "cell_type": "code",
      "execution_count": 15,
      "metadata": {
        "id": "mFR6IQpkEuyU"
      },
      "outputs": [],
      "source": [
        "# Define ordinal categories for each ordinal feature\n",
        "ordinalCategories = [['None', 'Po', 'Fa', 'TA', 'Gd', 'Ex'] for _ in ordinalFeatures]\n",
        "\n",
        "# Create an ordinal encoder\n",
        "ordinalEncoder = OrdinalEncoder(categories=ordinalCategories)\n",
        "\n",
        "# Fit and transform ordinal features\n",
        "ordinalEncoded = ordinalEncoder.fit_transform(df[ordinalFeatures])\n",
        "\n",
        "# Update dataframe with ordinal encoded features\n",
        "for i, feature in enumerate(ordinalFeatures):\n",
        "    df[feature] = ordinalEncoded[:, i]"
      ]
    },
    {
      "cell_type": "code",
      "execution_count": 16,
      "metadata": {
        "id": "621Y7Wu6EwPr"
      },
      "outputs": [],
      "source": [
        "# Define encoding categories for each other ordinal feature\n",
        "encodingCategories = [\n",
        "    ['None', 'No', 'Mn', 'Av', 'Gd'],  # BsmtExposure\n",
        "    ['None', 'Unf', 'LwQ', 'Rec', 'BLQ', 'ALQ', 'GLQ'],  # BsmtFinType1\n",
        "    ['None', 'Unf', 'LwQ', 'Rec', 'BLQ', 'ALQ', 'GLQ'],  # BsmtFinType2\n",
        "    ['Sev', 'Maj2', 'Maj1', 'Mod', 'Min2', 'Min1', 'Typ'], # Functional\n",
        "    ['None', 'Unf', 'RFn', 'Fin']  # GarageFinish\n",
        "]\n",
        "\n",
        "# Create an ordinal encoder\n",
        "ordinalEncoder = OrdinalEncoder(categories=encodingCategories)\n",
        "\n",
        "# Fit and transform other ordinal features\n",
        "ordinalEncoded = ordinalEncoder.fit_transform(df[otherOrdinalFeatures])\n",
        "\n",
        "# Update dataframe with ordinal encoded features\n",
        "for i, feature in enumerate(otherOrdinalFeatures):\n",
        "    df[feature] = ordinalEncoded[:, i]"
      ]
    },
    {
      "cell_type": "markdown",
      "metadata": {
        "id": "b8fZj4fZE_Jj"
      },
      "source": [
        "### Splitting DataSet"
      ]
    },
    {
      "cell_type": "code",
      "execution_count": 17,
      "metadata": {
        "id": "eoNd1vsLE8Xl"
      },
      "outputs": [],
      "source": [
        "# Create a copy of the dataframe\n",
        "df_cp = df.copy()\n",
        "\n",
        "# Remove SalePrice from the dataframe\n",
        "df_cp.pop('SalePrice')\n",
        "\n",
        "# Separate target variable 'SalePriceCategory' from features\n",
        "y = df_cp.pop('SalePriceCategory')\n",
        "X = df_cp"
      ]
    },
    {
      "cell_type": "code",
      "execution_count": 18,
      "metadata": {
        "id": "pn3jiq6sFE-P"
      },
      "outputs": [],
      "source": [
        "# Split the data into training and testing sets\n",
        "X_train, X_test, y_train, y_test = train_test_split(X, y, test_size=0.2, train_size=0.8, random_state=random_state)"
      ]
    },
    {
      "cell_type": "code",
      "execution_count": 19,
      "metadata": {
        "colab": {
          "base_uri": "https://localhost:8080/"
        },
        "id": "uD19B-McFGwd",
        "outputId": "70334c49-c143-4189-f05b-85d766ed4ffd"
      },
      "outputs": [
        {
          "name": "stdout",
          "output_type": "stream",
          "text": [
            "(1168, 225)\n",
            "(292, 225)\n"
          ]
        }
      ],
      "source": [
        "print(X_train.shape)\n",
        "print(X_test.shape)"
      ]
    },
    {
      "cell_type": "code",
      "execution_count": 20,
      "metadata": {
        "colab": {
          "base_uri": "https://localhost:8080/"
        },
        "id": "KvgJjCj2GXXi",
        "outputId": "b8ea660a-6502-447e-b76c-11ee4254c629"
      },
      "outputs": [
        {
          "name": "stdout",
          "output_type": "stream",
          "text": [
            "<class 'pandas.core.frame.DataFrame'>\n",
            "Index: 1168 entries, 254 to 1126\n",
            "Columns: 225 entries, Id to PavedDrive_Y\n",
            "dtypes: bool(174), float64(17), int64(34)\n",
            "memory usage: 673.0 KB\n"
          ]
        }
      ],
      "source": [
        "X_train.info()"
      ]
    },
    {
      "cell_type": "code",
      "execution_count": 21,
      "metadata": {
        "colab": {
          "base_uri": "https://localhost:8080/"
        },
        "id": "QpsOrtVyGaD3",
        "outputId": "69e81bc8-bbea-4482-8daa-4cdcf8b9b909"
      },
      "outputs": [
        {
          "name": "stdout",
          "output_type": "stream",
          "text": [
            "<class 'pandas.core.frame.DataFrame'>\n",
            "Index: 292 entries, 892 to 722\n",
            "Columns: 225 entries, Id to PavedDrive_Y\n",
            "dtypes: bool(174), float64(17), int64(34)\n",
            "memory usage: 168.2 KB\n"
          ]
        }
      ],
      "source": [
        "X_test.info()"
      ]
    },
    {
      "cell_type": "markdown",
      "metadata": {
        "id": "8S8K-J6zCDLR"
      },
      "source": [
        "### Feature Standarization"
      ]
    },
    {
      "cell_type": "code",
      "execution_count": 22,
      "metadata": {
        "id": "3qoQn7ePCHXK"
      },
      "outputs": [],
      "source": [
        "# Scale the features in the training set\n",
        "sc = StandardScaler()\n",
        "X_train = sc.fit_transform(X_train)\n",
        "\n",
        "# Scale the features in the test set\n",
        "X_test = sc.transform(X_test)"
      ]
    },
    {
      "cell_type": "markdown",
      "metadata": {},
      "source": [
        "## Multi-layer Perceptron Classifiers 🖥"
      ]
    },
    {
      "cell_type": "markdown",
      "metadata": {},
      "source": [
        "### Initial Iteration Using Different Topologies & Activation Functions"
      ]
    },
    {
      "cell_type": "code",
      "execution_count": 23,
      "metadata": {},
      "outputs": [
        {
          "name": "stdout",
          "output_type": "stream",
          "text": [
            "Model with tanh activation function and (6, 3) hidden layer sizes:\n",
            "Training time: 15.5693 seconds\n",
            "Training accuracy: 99.23%\n",
            "Testing accuracy: 83.56%\n",
            "------------------------------\n",
            "Model with logistic activation function and (3, 4) hidden layer sizes:\n",
            "Training time: 10.8552 seconds\n",
            "Training accuracy: 98.12%\n",
            "Testing accuracy: 83.56%\n"
          ]
        }
      ],
      "source": [
        "# Creating MLP classifier with tanh activation function and (6,3) hidden layer sizes\n",
        "mlp_tanh = MLPClassifier(activation='tanh', hidden_layer_sizes=(6,3), max_iter=1000, random_state=random_state)\n",
        "\n",
        "# Recording start time\n",
        "start_time = time.time()\n",
        "\n",
        "# Fitting the MLP classifier to training data\n",
        "mlp_tanh.fit(X_train, y_train)\n",
        "\n",
        "# Recording end time\n",
        "end_time = time.time()\n",
        "\n",
        "# Calculating training accuracy for tanh model\n",
        "train_accuracy_tanh = accuracy_score(y_train, mlp_tanh.predict(X_train))\n",
        "\n",
        "# Calculating testing accuracy for tanh model\n",
        "test_accuracy_tanh = accuracy_score(y_test, mlp_tanh.predict(X_test))\n",
        "\n",
        "# Printing training time with tanh activation function and (6, 3) hidden layer sizes\n",
        "print('Model with tanh activation function and (6, 3) hidden layer sizes:')\n",
        "print('Training time: {:.4f} seconds'.format(end_time - start_time))\n",
        "print('Training accuracy: {:.2f}%'.format(train_accuracy_tanh * 100))\n",
        "print('Testing accuracy: {:.2f}%'.format(test_accuracy_tanh * 100))\n",
        "print('-' * 30)  # Separate with dashes\n",
        "\n",
        "# Creating MLP classifier with logistic activation function and (3,4) hidden layer sizes\n",
        "mlp_logistic = MLPClassifier(activation='logistic', hidden_layer_sizes=(3,4), max_iter=1000, random_state=random_state)\n",
        "\n",
        "# Recording start time\n",
        "start_time = time.time()\n",
        "\n",
        "# Fitting the MLP classifier to training data\n",
        "mlp_logistic.fit(X_train, y_train)\n",
        "\n",
        "# Recording end time\n",
        "end_time = time.time()\n",
        "\n",
        "# Calculating training accuracy for logistic model\n",
        "train_accuracy_logistic = accuracy_score(y_train, mlp_logistic.predict(X_train))\n",
        "\n",
        "# Calculating testing accuracy for logistic model\n",
        "test_accuracy_logistic = accuracy_score(y_test, mlp_logistic.predict(X_test))\n",
        "\n",
        "# Printing training time with logistic activation function and (3, 4) hidden layer sizes\n",
        "print('Model with logistic activation function and (3, 4) hidden layer sizes:')\n",
        "print('Training time: {:.4f} seconds'.format(end_time - start_time))\n",
        "print('Training accuracy: {:.2f}%'.format(train_accuracy_logistic * 100))\n",
        "print('Testing accuracy: {:.2f}%'.format(test_accuracy_logistic * 100))\n"
      ]
    },
    {
      "cell_type": "markdown",
      "metadata": {},
      "source": [
        "#### Results and Findings"
      ]
    },
    {
      "cell_type": "code",
      "execution_count": 24,
      "metadata": {},
      "outputs": [
        {
          "data": {
            "image/png": "[encoded data removed]",
            "text/plain": [
              "<Figure size 600x400 with 2 Axes>"
            ]
          },
          "metadata": {},
          "output_type": "display_data"
        }
      ],
      "source": [
        "# Generating predictions on the test data using Tanh\n",
        "y_pred = mlp_tanh.predict(X_test)\n",
        "\n",
        "# Calculating the confusion matrix using the true labels and predicted labels\n",
        "confusionMatrix = confusion_matrix(y_test, y_pred)\n",
        "\n",
        "# Initializing ConfusionMatrixDisplay with the confusion matrix\n",
        "cmDisplay = ConfusionMatrixDisplay(confusion_matrix=confusionMatrix)\n",
        "\n",
        "# Plotting the confusion matrix\n",
        "cmDisplay.plot()\n",
        "plt.show()"
      ]
    },
    {
      "cell_type": "markdown",
      "metadata": {},
      "source": [
        "- Para la clase 0 (casas económicas), se clasificaron correctamente 118 casos.\n",
        "- Para la clase 1 (casas de gama media), se clasificaron correctamente 93 casos.\n",
        "- Para la clase 2 (casas de gama alta), se clasificaron correctamente 33 casos.\n",
        "\n",
        "En cuanto a las equivocaciones del modelo, se puede observar lo siguiente en la matriz de confusión:\n",
        "- El modelo se equivocó más frecuentemente en la predicción de casas de gama baja (clase 0) y gama alta (clase 2).\n",
        "- El modelo cometió menos equivocaciones en la predicción de casas de gama media (clase 1)."
      ]
    },
    {
      "cell_type": "code",
      "execution_count": 25,
      "metadata": {},
      "outputs": [
        {
          "data": {
            "image/png": "[encoded data removed]",
            "text/plain": [
              "<Figure size 600x400 with 2 Axes>"
            ]
          },
          "metadata": {},
          "output_type": "display_data"
        }
      ],
      "source": [
        "# Generating predictions on the training data using Tanh\n",
        "y_pred = mlp_tanh.predict(X_train)\n",
        "\n",
        "# Calculating the confusion matrix using the true labels and predicted labels\n",
        "confusionMatrix = confusion_matrix(y_train, y_pred)\n",
        "\n",
        "# Initializing ConfusionMatrixDisplay with the confusion matrix\n",
        "cmDisplay = ConfusionMatrixDisplay(confusion_matrix=confusionMatrix)\n",
        "\n",
        "# Plotting the confusion matrix\n",
        "cmDisplay.plot()\n",
        "plt.show()"
      ]
    },
    {
      "cell_type": "markdown",
      "metadata": {},
      "source": [
        "- Para la clase 0 (casas económicas), se clasificaron correctamente 472 casos.\n",
        "- Para la clase 1 (casas de gama media), se clasificaron correctamente 523 casos.\n",
        "- Para la clase 2 (casas de gama alta), se clasificaron correctamente 164 casos.\n",
        "\n",
        "En cuanto a las equivocaciones del modelo, se puede observar lo siguiente en la matriz de confusión:\n",
        "- El modelo se equivocó más frecuentemente en la predicción de casas de gama baja (clase 0) y gama alta (clase 2).\n",
        "- El modelo cometió menos equivocaciones en la predicción de casas de gama media (clase 1)."
      ]
    },
    {
      "cell_type": "code",
      "execution_count": 26,
      "metadata": {},
      "outputs": [
        {
          "data": {
            "image/png": "[encoded data removed]",
            "text/plain": [
              "<Figure size 600x400 with 1 Axes>"
            ]
          },
          "metadata": {},
          "output_type": "display_data"
        }
      ],
      "source": [
        "# Define custom color palette\n",
        "palette = sns.color_palette(\"viridis\", 2)\n",
        "\n",
        "# Computing learning curve\n",
        "train_sizes, train_scores, test_scores = learning_curve(\n",
        "    estimator=mlp_tanh,  # Classifier model\n",
        "    X=X,  # Features\n",
        "    y=y,  # Target variable\n",
        "    scoring=\"accuracy\",  # Scoring metric for classification (e.g., accuracy)\n",
        "    train_sizes=[1, 75, 150, 270, 331]  # Training set sizes to compute the learning curve\n",
        ")\n",
        "\n",
        "# Plotting the learning curve with custom palette and grid style\n",
        "plt.plot(train_sizes, train_scores.mean(axis=1), label=\"Training\", color=palette[0])  # Plotting training scores with custom color\n",
        "plt.plot(train_sizes, test_scores.mean(axis=1), label=\"Validation\", color=palette[1])  # Plotting validation scores with custom color\n",
        "\n",
        "# Adding labels and title\n",
        "plt.title(\"Learning Curve\")  # Setting title\n",
        "plt.xlabel(\"Training Set Size\")  # Setting x-label\n",
        "plt.ylabel(\"Accuracy\")  # Setting y-label\n",
        "\n",
        "# Adding legend\n",
        "plt.legend(loc=\"best\")  # Placing legend at best position\n",
        "\n",
        "# Adding grid with custom style\n",
        "plt.grid(True, linestyle='--', linewidth=0.5)  # Adding grid with dashed lines and custom line width\n",
        "\n",
        "# Displaying the plot\n",
        "plt.show()"
      ]
    },
    {
      "cell_type": "markdown",
      "metadata": {},
      "source": [
        "La brecha de generalización para la curva de entrenamiento y de validación se vuelve extremadamente pequeña a medida que aumenta el tamaño del conjunto de datos de entrenamiento. Esto indica que agregar más samples al modelo no mejorará su rendimiento. Tanto en las matrices de confusión, como en las métricas de evaluación del modelo y la curva de aprendizaje se evidencia un fuerte sobreajuste. Lo anterior podría implicar que el modelo está memorizando la data de entrenamiento en vez de los patrones de esta, teniendo así un excelente desempeño en el conjunto de datos de entrenamiento pero fallando en generalizar datos que aún no ha visto."
      ]
    },
    {
      "cell_type": "code",
      "execution_count": 27,
      "metadata": {},
      "outputs": [
        {
          "data": {
            "image/png": "[encoded data removed]",
            "text/plain": [
              "<Figure size 600x400 with 2 Axes>"
            ]
          },
          "metadata": {},
          "output_type": "display_data"
        }
      ],
      "source": [
        "# Generating predictions on the test data using Logistic\n",
        "y_pred = mlp_logistic.predict(X_test)\n",
        "\n",
        "# Calculating the confusion matrix using the true labels and predicted labels\n",
        "confusionMatrix = confusion_matrix(y_test, y_pred)\n",
        "\n",
        "# Initializing ConfusionMatrixDisplay with the confusion matrix\n",
        "cmDisplay = ConfusionMatrixDisplay(confusion_matrix=confusionMatrix)\n",
        "\n",
        "# Plotting the confusion matrix\n",
        "cmDisplay.plot()\n",
        "plt.show()"
      ]
    },
    {
      "cell_type": "markdown",
      "metadata": {},
      "source": [
        "- Para la clase 0 (casas económicas), se clasificaron correctamente 126 casos.\n",
        "- Para la clase 1 (casas de gama media), se clasificaron correctamente 82 casos.\n",
        "- Para la clase 2 (casas de gama alta), se clasificaron correctamente 36 casos.\n",
        "\n",
        "En cuanto a las equivocaciones del modelo, se puede observar lo siguiente en la matriz de confusión:\n",
        "- El modelo se equivocó más frecuentemente en la predicción de casas de gama media (clase 1).\n",
        "- El modelo cometió menos equivocaciones en la predicción de casas de gama alta (clase 2)."
      ]
    },
    {
      "cell_type": "code",
      "execution_count": 28,
      "metadata": {},
      "outputs": [
        {
          "data": {
            "image/png": "[encoded data removed]",
            "text/plain": [
              "<Figure size 600x400 with 2 Axes>"
            ]
          },
          "metadata": {},
          "output_type": "display_data"
        }
      ],
      "source": [
        "# Generating predictions on the training data using Logistic\n",
        "y_pred = mlp_logistic.predict(X_train)\n",
        "\n",
        "# Calculating the confusion matrix using the true labels and predicted labels\n",
        "confusionMatrix = confusion_matrix(y_train, y_pred)\n",
        "\n",
        "# Initializing ConfusionMatrixDisplay with the confusion matrix\n",
        "cmDisplay = ConfusionMatrixDisplay(confusion_matrix=confusionMatrix)\n",
        "\n",
        "# Plotting the confusion matrix\n",
        "cmDisplay.plot()\n",
        "plt.show()"
      ]
    },
    {
      "cell_type": "markdown",
      "metadata": {},
      "source": [
        "- Para la clase 0 (casas económicas), se clasificaron correctamente 468 casos.\n",
        "- Para la clase 1 (casas de gama media), se clasificaron correctamente 510 casos.\n",
        "- Para la clase 2 (casas de gama alta), se clasificaron correctamente 168 casos.\n",
        "\n",
        "En cuanto a las equivocaciones del modelo, se puede observar lo siguiente en la matriz de confusión:\n",
        "- El modelo se equivocó más frecuentemente en la predicción de casas de gama media (clase 1).\n",
        "- El modelo cometió menos equivocaciones en la predicción de casas de gama alta (clase 2)."
      ]
    },
    {
      "cell_type": "code",
      "execution_count": 29,
      "metadata": {},
      "outputs": [
        {
          "data": {
            "image/png": "[encoded data removed]",
            "text/plain": [
              "<Figure size 600x400 with 1 Axes>"
            ]
          },
          "metadata": {},
          "output_type": "display_data"
        }
      ],
      "source": [
        "# Define custom color palette\n",
        "palette = sns.color_palette(\"viridis\", 2)\n",
        "\n",
        "# Computing learning curve\n",
        "train_sizes, train_scores, test_scores = learning_curve(\n",
        "    estimator=mlp_logistic,  # Classifier model\n",
        "    X=X,  # Features\n",
        "    y=y,  # Target variable\n",
        "    scoring=\"accuracy\",  # Scoring metric for classification (e.g., accuracy)\n",
        "    train_sizes=[1, 75, 150, 270, 331]  # Training set sizes to compute the learning curve\n",
        ")\n",
        "\n",
        "# Plotting the learning curve with custom palette and grid style\n",
        "plt.plot(train_sizes, train_scores.mean(axis=1), label=\"Training\", color=palette[0])  # Plotting training scores with custom color\n",
        "plt.plot(train_sizes, test_scores.mean(axis=1), label=\"Validation\", color=palette[1])  # Plotting validation scores with custom color\n",
        "\n",
        "# Adding labels and title\n",
        "plt.title(\"Learning Curve\")  # Setting title\n",
        "plt.xlabel(\"Training Set Size\")  # Setting x-label\n",
        "plt.ylabel(\"Accuracy\")  # Setting y-label\n",
        "\n",
        "# Adding legend\n",
        "plt.legend(loc=\"best\")  # Placing legend at best position\n",
        "\n",
        "# Adding grid with custom style\n",
        "plt.grid(True, linestyle='--', linewidth=0.5)  # Adding grid with dashed lines and custom line width\n",
        "\n",
        "# Displaying the plot\n",
        "plt.show()"
      ]
    },
    {
      "cell_type": "markdown",
      "metadata": {},
      "source": [
        "Nuevamente, para el modelo que implementa una función logística, la discrepancia de generalización entre las curvas de entrenamiento y validación se reduce considerablemente a medida que se incrementa el tamaño del conjunto de datos de entrenamiento. Este fenómeno sugiere que la adición de más muestras al modelo no conllevará a una mejora significativa en su rendimiento. Tanto las matrices de confusión como las métricas de evaluación del modelo, junto con la curva de aprendizaje, exhiben signos de un marcado sobreajuste."
      ]
    },
    {
      "cell_type": "markdown",
      "metadata": {},
      "source": [
        "#### Performance Comparison of MLP Models"
      ]
    },
    {
      "cell_type": "markdown",
      "metadata": {},
      "source": [
        "|                      | Tanh Model | Logistic Model |\n",
        "|----------------------|---------------------|--------------|\n",
        "| Accuracy                  |        0.84            |     0.84        |\n",
        "| Processing Time                 |        14.11 s            |     8.86 s        |\n"
      ]
    },
    {
      "cell_type": "markdown",
      "metadata": {},
      "source": [
        "**Efectividad:**\n",
        "- Ambos modelos tienen exactamente la misma precisión en el conjunto de prueba (83.56%).\n",
        "- El modelo con función de activación tanh tiene una mayor precisión en el conjunto de entrenamiento (99.22% comparado con 98.12% del modelo logístico), lo que podría indicar un mayor sobreajuste dado que su rendimiento en el conjunto de entrenamiento es significativamente más alto que en el conjunto de prueba.\n",
        "\n",
        "**Tiempo de procesamiento**\n",
        "- El tiempo de procesamiento es menor para el modelo con activación logística (8.86s), comparado con el modelo tanh (14.11s).\n",
        "\n",
        "**Equivocaciones**\n",
        "- Modelo tanh:\n",
        "    - Mejor identificación de las casas de gama media, con 93 correctos contra 82 del modelo logístico.\n",
        "    - Más errores en la predicción de casas de gama baja y alta.\n",
        "    \n",
        "- Modelo logístico:\n",
        "    - Mejor identificación de casas de gama alta.\n",
        "    - Más errores en la identificación de casas de gama media.\n",
        "\n",
        "**Sobreajuste**\n",
        "Como ya se ha mencionado en celdas atrás, sí existe sobreajuste en los modelos de clasificación debido a la precisión en en training y test de ambos modelos."
      ]
    },
    {
      "cell_type": "markdown",
      "metadata": {},
      "source": [
        "En general, ambos modelos exhiben una notable tendencia al sobreajuste, aunque el modelo que emplea la función de activación Tanh parece ser más susceptible a este fenómeno. Además, es crucial destacar que el modelo basado en la función logística logra reducir significativamente el tiempo de procesamiento, con una notable ventaja sobre su contraparte (Tanh), siendo aproximadamente la mitad del tiempo requerido para completar las mismas tareas. En cuanto a la métrica de precisión, ambos modelos alcanzan un puntaje de 0.84, lo cual denota un nivel de desempeño aceptable. Hasta ahora, el modelo logístico es el mejor de ambos, dada a su combinación de precisión y su corto tiempo de procesamiento."
      ]
    },
    {
      "cell_type": "markdown",
      "metadata": {},
      "source": [
        "### Second Iteration - Hyperparameter Tuning of Logistic MLP"
      ]
    },
    {
      "cell_type": "code",
      "execution_count": 30,
      "metadata": {},
      "outputs": [
        {
          "name": "stderr",
          "output_type": "stream",
          "text": [
            "/home/andrea/python-environments/env/lib/python3.10/site-packages/sklearn/neural_network/_multilayer_perceptron.py:691: ConvergenceWarning: Stochastic Optimizer: Maximum iterations (100) reached and the optimization hasn't converged yet.\n",
            "  warnings.warn(\n",
            "/home/andrea/python-environments/env/lib/python3.10/site-packages/sklearn/neural_network/_multilayer_perceptron.py:691: ConvergenceWarning: Stochastic Optimizer: Maximum iterations (100) reached and the optimization hasn't converged yet.\n",
            "  warnings.warn(\n",
            "/home/andrea/python-environments/env/lib/python3.10/site-packages/sklearn/neural_network/_multilayer_perceptron.py:691: ConvergenceWarning: Stochastic Optimizer: Maximum iterations (100) reached and the optimization hasn't converged yet.\n",
            "  warnings.warn(\n",
            "/home/andrea/python-environments/env/lib/python3.10/site-packages/sklearn/neural_network/_multilayer_perceptron.py:691: ConvergenceWarning: Stochastic Optimizer: Maximum iterations (100) reached and the optimization hasn't converged yet.\n",
            "  warnings.warn(\n",
            "/home/andrea/python-environments/env/lib/python3.10/site-packages/sklearn/neural_network/_multilayer_perceptron.py:691: ConvergenceWarning: Stochastic Optimizer: Maximum iterations (100) reached and the optimization hasn't converged yet.\n",
            "  warnings.warn(\n",
            "/home/andrea/python-environments/env/lib/python3.10/site-packages/sklearn/neural_network/_multilayer_perceptron.py:691: ConvergenceWarning: Stochastic Optimizer: Maximum iterations (100) reached and the optimization hasn't converged yet.\n",
            "  warnings.warn(\n",
            "/home/andrea/python-environments/env/lib/python3.10/site-packages/sklearn/neural_network/_multilayer_perceptron.py:691: ConvergenceWarning: Stochastic Optimizer: Maximum iterations (100) reached and the optimization hasn't converged yet.\n",
            "  warnings.warn(\n",
            "/home/andrea/python-environments/env/lib/python3.10/site-packages/sklearn/neural_network/_multilayer_perceptron.py:691: ConvergenceWarning: Stochastic Optimizer: Maximum iterations (100) reached and the optimization hasn't converged yet.\n",
            "  warnings.warn(\n",
            "/home/andrea/python-environments/env/lib/python3.10/site-packages/sklearn/neural_network/_multilayer_perceptron.py:691: ConvergenceWarning: Stochastic Optimizer: Maximum iterations (100) reached and the optimization hasn't converged yet.\n",
            "  warnings.warn(\n",
            "/home/andrea/python-environments/env/lib/python3.10/site-packages/sklearn/neural_network/_multilayer_perceptron.py:691: ConvergenceWarning: Stochastic Optimizer: Maximum iterations (100) reached and the optimization hasn't converged yet.\n",
            "  warnings.warn(\n",
            "/home/andrea/python-environments/env/lib/python3.10/site-packages/sklearn/neural_network/_multilayer_perceptron.py:691: ConvergenceWarning: Stochastic Optimizer: Maximum iterations (200) reached and the optimization hasn't converged yet.\n",
            "  warnings.warn(\n",
            "/home/andrea/python-environments/env/lib/python3.10/site-packages/sklearn/neural_network/_multilayer_perceptron.py:691: ConvergenceWarning: Stochastic Optimizer: Maximum iterations (200) reached and the optimization hasn't converged yet.\n",
            "  warnings.warn(\n",
            "/home/andrea/python-environments/env/lib/python3.10/site-packages/sklearn/neural_network/_multilayer_perceptron.py:691: ConvergenceWarning: Stochastic Optimizer: Maximum iterations (200) reached and the optimization hasn't converged yet.\n",
            "  warnings.warn(\n",
            "/home/andrea/python-environments/env/lib/python3.10/site-packages/sklearn/neural_network/_multilayer_perceptron.py:691: ConvergenceWarning: Stochastic Optimizer: Maximum iterations (200) reached and the optimization hasn't converged yet.\n",
            "  warnings.warn(\n",
            "/home/andrea/python-environments/env/lib/python3.10/site-packages/sklearn/neural_network/_multilayer_perceptron.py:691: ConvergenceWarning: Stochastic Optimizer: Maximum iterations (200) reached and the optimization hasn't converged yet.\n",
            "  warnings.warn(\n",
            "/home/andrea/python-environments/env/lib/python3.10/site-packages/sklearn/neural_network/_multilayer_perceptron.py:691: ConvergenceWarning: Stochastic Optimizer: Maximum iterations (200) reached and the optimization hasn't converged yet.\n",
            "  warnings.warn(\n",
            "/home/andrea/python-environments/env/lib/python3.10/site-packages/sklearn/neural_network/_multilayer_perceptron.py:691: ConvergenceWarning: Stochastic Optimizer: Maximum iterations (200) reached and the optimization hasn't converged yet.\n",
            "  warnings.warn(\n",
            "/home/andrea/python-environments/env/lib/python3.10/site-packages/sklearn/neural_network/_multilayer_perceptron.py:691: ConvergenceWarning: Stochastic Optimizer: Maximum iterations (200) reached and the optimization hasn't converged yet.\n",
            "  warnings.warn(\n",
            "/home/andrea/python-environments/env/lib/python3.10/site-packages/sklearn/neural_network/_multilayer_perceptron.py:691: ConvergenceWarning: Stochastic Optimizer: Maximum iterations (200) reached and the optimization hasn't converged yet.\n",
            "  warnings.warn(\n",
            "/home/andrea/python-environments/env/lib/python3.10/site-packages/sklearn/neural_network/_multilayer_perceptron.py:691: ConvergenceWarning: Stochastic Optimizer: Maximum iterations (200) reached and the optimization hasn't converged yet.\n",
            "  warnings.warn(\n",
            "/home/andrea/python-environments/env/lib/python3.10/site-packages/sklearn/neural_network/_multilayer_perceptron.py:691: ConvergenceWarning: Stochastic Optimizer: Maximum iterations (100) reached and the optimization hasn't converged yet.\n",
            "  warnings.warn(\n",
            "/home/andrea/python-environments/env/lib/python3.10/site-packages/sklearn/neural_network/_multilayer_perceptron.py:691: ConvergenceWarning: Stochastic Optimizer: Maximum iterations (100) reached and the optimization hasn't converged yet.\n",
            "  warnings.warn(\n",
            "/home/andrea/python-environments/env/lib/python3.10/site-packages/sklearn/neural_network/_multilayer_perceptron.py:691: ConvergenceWarning: Stochastic Optimizer: Maximum iterations (100) reached and the optimization hasn't converged yet.\n",
            "  warnings.warn(\n",
            "/home/andrea/python-environments/env/lib/python3.10/site-packages/sklearn/neural_network/_multilayer_perceptron.py:691: ConvergenceWarning: Stochastic Optimizer: Maximum iterations (100) reached and the optimization hasn't converged yet.\n",
            "  warnings.warn(\n",
            "/home/andrea/python-environments/env/lib/python3.10/site-packages/sklearn/neural_network/_multilayer_perceptron.py:691: ConvergenceWarning: Stochastic Optimizer: Maximum iterations (100) reached and the optimization hasn't converged yet.\n",
            "  warnings.warn(\n",
            "/home/andrea/python-environments/env/lib/python3.10/site-packages/sklearn/neural_network/_multilayer_perceptron.py:691: ConvergenceWarning: Stochastic Optimizer: Maximum iterations (100) reached and the optimization hasn't converged yet.\n",
            "  warnings.warn(\n",
            "/home/andrea/python-environments/env/lib/python3.10/site-packages/sklearn/neural_network/_multilayer_perceptron.py:691: ConvergenceWarning: Stochastic Optimizer: Maximum iterations (100) reached and the optimization hasn't converged yet.\n",
            "  warnings.warn(\n",
            "/home/andrea/python-environments/env/lib/python3.10/site-packages/sklearn/neural_network/_multilayer_perceptron.py:691: ConvergenceWarning: Stochastic Optimizer: Maximum iterations (100) reached and the optimization hasn't converged yet.\n",
            "  warnings.warn(\n",
            "/home/andrea/python-environments/env/lib/python3.10/site-packages/sklearn/neural_network/_multilayer_perceptron.py:691: ConvergenceWarning: Stochastic Optimizer: Maximum iterations (100) reached and the optimization hasn't converged yet.\n",
            "  warnings.warn(\n",
            "/home/andrea/python-environments/env/lib/python3.10/site-packages/sklearn/neural_network/_multilayer_perceptron.py:691: ConvergenceWarning: Stochastic Optimizer: Maximum iterations (100) reached and the optimization hasn't converged yet.\n",
            "  warnings.warn(\n",
            "/home/andrea/python-environments/env/lib/python3.10/site-packages/sklearn/neural_network/_multilayer_perceptron.py:691: ConvergenceWarning: Stochastic Optimizer: Maximum iterations (200) reached and the optimization hasn't converged yet.\n",
            "  warnings.warn(\n",
            "/home/andrea/python-environments/env/lib/python3.10/site-packages/sklearn/neural_network/_multilayer_perceptron.py:691: ConvergenceWarning: Stochastic Optimizer: Maximum iterations (200) reached and the optimization hasn't converged yet.\n",
            "  warnings.warn(\n",
            "/home/andrea/python-environments/env/lib/python3.10/site-packages/sklearn/neural_network/_multilayer_perceptron.py:691: ConvergenceWarning: Stochastic Optimizer: Maximum iterations (200) reached and the optimization hasn't converged yet.\n",
            "  warnings.warn(\n",
            "/home/andrea/python-environments/env/lib/python3.10/site-packages/sklearn/neural_network/_multilayer_perceptron.py:691: ConvergenceWarning: Stochastic Optimizer: Maximum iterations (200) reached and the optimization hasn't converged yet.\n",
            "  warnings.warn(\n",
            "/home/andrea/python-environments/env/lib/python3.10/site-packages/sklearn/neural_network/_multilayer_perceptron.py:691: ConvergenceWarning: Stochastic Optimizer: Maximum iterations (200) reached and the optimization hasn't converged yet.\n",
            "  warnings.warn(\n",
            "/home/andrea/python-environments/env/lib/python3.10/site-packages/sklearn/neural_network/_multilayer_perceptron.py:691: ConvergenceWarning: Stochastic Optimizer: Maximum iterations (200) reached and the optimization hasn't converged yet.\n",
            "  warnings.warn(\n",
            "/home/andrea/python-environments/env/lib/python3.10/site-packages/sklearn/neural_network/_multilayer_perceptron.py:691: ConvergenceWarning: Stochastic Optimizer: Maximum iterations (200) reached and the optimization hasn't converged yet.\n",
            "  warnings.warn(\n",
            "/home/andrea/python-environments/env/lib/python3.10/site-packages/sklearn/neural_network/_multilayer_perceptron.py:691: ConvergenceWarning: Stochastic Optimizer: Maximum iterations (200) reached and the optimization hasn't converged yet.\n",
            "  warnings.warn(\n",
            "/home/andrea/python-environments/env/lib/python3.10/site-packages/sklearn/neural_network/_multilayer_perceptron.py:691: ConvergenceWarning: Stochastic Optimizer: Maximum iterations (200) reached and the optimization hasn't converged yet.\n",
            "  warnings.warn(\n",
            "/home/andrea/python-environments/env/lib/python3.10/site-packages/sklearn/neural_network/_multilayer_perceptron.py:691: ConvergenceWarning: Stochastic Optimizer: Maximum iterations (200) reached and the optimization hasn't converged yet.\n",
            "  warnings.warn(\n",
            "/home/andrea/python-environments/env/lib/python3.10/site-packages/sklearn/neural_network/_multilayer_perceptron.py:691: ConvergenceWarning: Stochastic Optimizer: Maximum iterations (100) reached and the optimization hasn't converged yet.\n",
            "  warnings.warn(\n",
            "/home/andrea/python-environments/env/lib/python3.10/site-packages/sklearn/neural_network/_multilayer_perceptron.py:691: ConvergenceWarning: Stochastic Optimizer: Maximum iterations (100) reached and the optimization hasn't converged yet.\n",
            "  warnings.warn(\n",
            "/home/andrea/python-environments/env/lib/python3.10/site-packages/sklearn/neural_network/_multilayer_perceptron.py:691: ConvergenceWarning: Stochastic Optimizer: Maximum iterations (100) reached and the optimization hasn't converged yet.\n",
            "  warnings.warn(\n",
            "/home/andrea/python-environments/env/lib/python3.10/site-packages/sklearn/neural_network/_multilayer_perceptron.py:691: ConvergenceWarning: Stochastic Optimizer: Maximum iterations (100) reached and the optimization hasn't converged yet.\n",
            "  warnings.warn(\n",
            "/home/andrea/python-environments/env/lib/python3.10/site-packages/sklearn/neural_network/_multilayer_perceptron.py:691: ConvergenceWarning: Stochastic Optimizer: Maximum iterations (100) reached and the optimization hasn't converged yet.\n",
            "  warnings.warn(\n",
            "/home/andrea/python-environments/env/lib/python3.10/site-packages/sklearn/neural_network/_multilayer_perceptron.py:691: ConvergenceWarning: Stochastic Optimizer: Maximum iterations (100) reached and the optimization hasn't converged yet.\n",
            "  warnings.warn(\n",
            "/home/andrea/python-environments/env/lib/python3.10/site-packages/sklearn/neural_network/_multilayer_perceptron.py:691: ConvergenceWarning: Stochastic Optimizer: Maximum iterations (100) reached and the optimization hasn't converged yet.\n",
            "  warnings.warn(\n",
            "/home/andrea/python-environments/env/lib/python3.10/site-packages/sklearn/neural_network/_multilayer_perceptron.py:691: ConvergenceWarning: Stochastic Optimizer: Maximum iterations (100) reached and the optimization hasn't converged yet.\n",
            "  warnings.warn(\n",
            "/home/andrea/python-environments/env/lib/python3.10/site-packages/sklearn/neural_network/_multilayer_perceptron.py:691: ConvergenceWarning: Stochastic Optimizer: Maximum iterations (100) reached and the optimization hasn't converged yet.\n",
            "  warnings.warn(\n",
            "/home/andrea/python-environments/env/lib/python3.10/site-packages/sklearn/neural_network/_multilayer_perceptron.py:691: ConvergenceWarning: Stochastic Optimizer: Maximum iterations (100) reached and the optimization hasn't converged yet.\n",
            "  warnings.warn(\n",
            "/home/andrea/python-environments/env/lib/python3.10/site-packages/sklearn/neural_network/_multilayer_perceptron.py:691: ConvergenceWarning: Stochastic Optimizer: Maximum iterations (100) reached and the optimization hasn't converged yet.\n",
            "  warnings.warn(\n",
            "/home/andrea/python-environments/env/lib/python3.10/site-packages/sklearn/neural_network/_multilayer_perceptron.py:691: ConvergenceWarning: Stochastic Optimizer: Maximum iterations (200) reached and the optimization hasn't converged yet.\n",
            "  warnings.warn(\n",
            "/home/andrea/python-environments/env/lib/python3.10/site-packages/sklearn/neural_network/_multilayer_perceptron.py:691: ConvergenceWarning: Stochastic Optimizer: Maximum iterations (200) reached and the optimization hasn't converged yet.\n",
            "  warnings.warn(\n",
            "/home/andrea/python-environments/env/lib/python3.10/site-packages/sklearn/neural_network/_multilayer_perceptron.py:691: ConvergenceWarning: Stochastic Optimizer: Maximum iterations (200) reached and the optimization hasn't converged yet.\n",
            "  warnings.warn(\n",
            "/home/andrea/python-environments/env/lib/python3.10/site-packages/sklearn/neural_network/_multilayer_perceptron.py:691: ConvergenceWarning: Stochastic Optimizer: Maximum iterations (200) reached and the optimization hasn't converged yet.\n",
            "  warnings.warn(\n",
            "/home/andrea/python-environments/env/lib/python3.10/site-packages/sklearn/neural_network/_multilayer_perceptron.py:691: ConvergenceWarning: Stochastic Optimizer: Maximum iterations (200) reached and the optimization hasn't converged yet.\n",
            "  warnings.warn(\n",
            "/home/andrea/python-environments/env/lib/python3.10/site-packages/sklearn/neural_network/_multilayer_perceptron.py:691: ConvergenceWarning: Stochastic Optimizer: Maximum iterations (200) reached and the optimization hasn't converged yet.\n",
            "  warnings.warn(\n",
            "/home/andrea/python-environments/env/lib/python3.10/site-packages/sklearn/neural_network/_multilayer_perceptron.py:691: ConvergenceWarning: Stochastic Optimizer: Maximum iterations (200) reached and the optimization hasn't converged yet.\n",
            "  warnings.warn(\n",
            "/home/andrea/python-environments/env/lib/python3.10/site-packages/sklearn/neural_network/_multilayer_perceptron.py:691: ConvergenceWarning: Stochastic Optimizer: Maximum iterations (200) reached and the optimization hasn't converged yet.\n",
            "  warnings.warn(\n",
            "/home/andrea/python-environments/env/lib/python3.10/site-packages/sklearn/neural_network/_multilayer_perceptron.py:691: ConvergenceWarning: Stochastic Optimizer: Maximum iterations (200) reached and the optimization hasn't converged yet.\n",
            "  warnings.warn(\n",
            "/home/andrea/python-environments/env/lib/python3.10/site-packages/sklearn/neural_network/_multilayer_perceptron.py:691: ConvergenceWarning: Stochastic Optimizer: Maximum iterations (200) reached and the optimization hasn't converged yet.\n",
            "  warnings.warn(\n",
            "/home/andrea/python-environments/env/lib/python3.10/site-packages/sklearn/neural_network/_multilayer_perceptron.py:691: ConvergenceWarning: Stochastic Optimizer: Maximum iterations (100) reached and the optimization hasn't converged yet.\n",
            "  warnings.warn(\n"
          ]
        },
        {
          "name": "stdout",
          "output_type": "stream",
          "text": [
            "Best parameters found by GridSearchCV:\n",
            "{'hidden_layer_sizes': (5, 3), 'learning_rate_init': 0.01, 'max_iter': 100}\n",
            "------------------------------\n",
            "Model with best parameters:\n",
            "Training time: 277.5776 seconds\n",
            "Training accuracy: 99.23%\n",
            "Testing accuracy: 83.56%\n",
            "------------------------------\n"
          ]
        }
      ],
      "source": [
        "# Defining the parameter grid for tuning\n",
        "parametros_tun = {\n",
        "    'max_iter': (100, 200, 500, 1000),  # Maximum number of iterations\n",
        "    'learning_rate_init': (0.01, 0.1, 1, 10),  # Initial learning rate\n",
        "    'hidden_layer_sizes': ((3, 2), (5, 3), (10, 2))  # Sizes of hidden layers\n",
        "}\n",
        "\n",
        "# Creating GridSearchCV object with MLPClassifier and parameter grid\n",
        "model_grid_search = GridSearchCV(\n",
        "    mlp_logistic,  # MLPClassifier model with logistic activation\n",
        "    param_grid=parametros_tun,  # Parameter grid for tuning\n",
        "    n_jobs=2,  # Number of parallel jobs to run (-1 means using all processors)\n",
        "    cv=10  # Number of folds for cross-validation\n",
        ")\n",
        "\n",
        "# Recording start time\n",
        "start_time = time.time()\n",
        "\n",
        "# Fitting the GridSearchCV object to training data\n",
        "model_grid_search.fit(X_train, y_train)\n",
        "\n",
        "# Recording end time\n",
        "end_time = time.time()\n",
        "\n",
        "# Calculating training accuracy for the best logistic model found by GridSearchCV\n",
        "train_accuracy_log = accuracy_score(y_train, mlp_tanh.predict(X_train))\n",
        "\n",
        "# Calculating testing accuracy for the best logistic model found by GridSearchCV\n",
        "test_accuracy_log = accuracy_score(y_test, mlp_tanh.predict(X_test))\n",
        "\n",
        "# Printing the best parameters found by GridSearchCV\n",
        "print('Best parameters found by GridSearchCV:')\n",
        "print(model_grid_search.best_params_)\n",
        "print('-' * 30)  # Separate with dashes\n",
        "\n",
        "# Printing training time, best parameters, training accuracy, and testing accuracy\n",
        "print('Model with best parameters:')\n",
        "print('Training time: {:.4f} seconds'.format(end_time - start_time))\n",
        "print('Training accuracy: {:.2f}%'.format(train_accuracy_log * 100))\n",
        "print('Testing accuracy: {:.2f}%'.format(test_accuracy_log * 100))\n",
        "print('-' * 30)  # Separate with dashes"
      ]
    },
    {
      "cell_type": "markdown",
      "metadata": {},
      "source": [
        "#### Results and Findings"
      ]
    },
    {
      "cell_type": "code",
      "execution_count": 31,
      "metadata": {},
      "outputs": [
        {
          "data": {
            "image/png": "[encoded data removed]",
            "text/plain": [
              "<Figure size 600x400 with 2 Axes>"
            ]
          },
          "metadata": {},
          "output_type": "display_data"
        }
      ],
      "source": [
        "# Generating predictions on the test data using Logistic\n",
        "y_pred = model_grid_search.predict(X_test)\n",
        "\n",
        "# Calculating the confusion matrix using the true labels and predicted labels\n",
        "confusionMatrix = confusion_matrix(y_test, y_pred)\n",
        "\n",
        "# Initializing ConfusionMatrixDisplay with the confusion matrix\n",
        "cmDisplay = ConfusionMatrixDisplay(confusion_matrix=confusionMatrix)\n",
        "\n",
        "# Plotting the confusion matrix\n",
        "cmDisplay.plot()\n",
        "plt.show()"
      ]
    },
    {
      "cell_type": "markdown",
      "metadata": {},
      "source": [
        "- Para la clase 0 (casas económicas), se clasificaron correctamente 126 casos.\n",
        "- Para la clase 1 (casas de gama media), se clasificaron correctamente 78 casos.\n",
        "- Para la clase 2 (casas de gama alta), se clasificaron correctamente 37 casos.\n",
        "\n",
        "En cuanto a las equivocaciones del modelo, se puede observar lo siguiente en la matriz de confusión:\n",
        "- El modelo se equivocó más frecuentemente en la predicción de casas de gama media (clase 1).\n",
        "- El modelo cometió menos equivocaciones en la predicción de casas de gama alta (clase 2)."
      ]
    },
    {
      "cell_type": "code",
      "execution_count": 32,
      "metadata": {},
      "outputs": [
        {
          "data": {
            "image/png": "[encoded data removed]",
            "text/plain": [
              "<Figure size 600x400 with 2 Axes>"
            ]
          },
          "metadata": {},
          "output_type": "display_data"
        }
      ],
      "source": [
        "# Generating predictions on the train data using Logistic\n",
        "y_pred = model_grid_search.predict(X_train)\n",
        "\n",
        "# Calculating the confusion matrix using the true labels and predicted labels\n",
        "confusionMatrix = confusion_matrix(y_train, y_pred)\n",
        "\n",
        "# Initializing ConfusionMatrixDisplay with the confusion matrix\n",
        "cmDisplay = ConfusionMatrixDisplay(confusion_matrix=confusionMatrix)\n",
        "\n",
        "# Plotting the confusion matrix\n",
        "cmDisplay.plot()\n",
        "plt.show()"
      ]
    },
    {
      "cell_type": "markdown",
      "metadata": {},
      "source": [
        "- Para la clase 0 (casas económicas), se clasificaron correctamente 470 casos.\n",
        "- Para la clase 1 (casas de gama media), se clasificaron correctamente 506 casos.\n",
        "- Para la clase 2 (casas de gama alta), se clasificaron correctamente 168 casos.\n",
        "\n",
        "En cuanto a las equivocaciones del modelo, se puede observar lo siguiente en la matriz de confusión:\n",
        "- El modelo se equivocó más frecuentemente en la predicción de casas de gama media (clase 1).\n",
        "- El modelo cometió menos equivocaciones en la predicción de casas de gama alta (clase 2)."
      ]
    },
    {
      "cell_type": "code",
      "execution_count": 33,
      "metadata": {},
      "outputs": [
        {
          "name": "stderr",
          "output_type": "stream",
          "text": [
            "/home/andrea/python-environments/env/lib/python3.10/site-packages/sklearn/neural_network/_multilayer_perceptron.py:691: ConvergenceWarning: Stochastic Optimizer: Maximum iterations (100) reached and the optimization hasn't converged yet.\n",
            "  warnings.warn(\n",
            "/home/andrea/python-environments/env/lib/python3.10/site-packages/sklearn/neural_network/_multilayer_perceptron.py:691: ConvergenceWarning: Stochastic Optimizer: Maximum iterations (100) reached and the optimization hasn't converged yet.\n",
            "  warnings.warn(\n",
            "/home/andrea/python-environments/env/lib/python3.10/site-packages/sklearn/neural_network/_multilayer_perceptron.py:691: ConvergenceWarning: Stochastic Optimizer: Maximum iterations (100) reached and the optimization hasn't converged yet.\n",
            "  warnings.warn(\n",
            "/home/andrea/python-environments/env/lib/python3.10/site-packages/sklearn/neural_network/_multilayer_perceptron.py:691: ConvergenceWarning: Stochastic Optimizer: Maximum iterations (200) reached and the optimization hasn't converged yet.\n",
            "  warnings.warn(\n"
          ]
        },
        {
          "data": {
            "image/png": "[encoded data removed]",
            "text/plain": [
              "<Figure size 600x400 with 1 Axes>"
            ]
          },
          "metadata": {},
          "output_type": "display_data"
        }
      ],
      "source": [
        "# Define custom color palette\n",
        "palette = sns.color_palette(\"viridis\", 2)\n",
        "\n",
        "# Computing learning curve\n",
        "train_sizes, train_scores, test_scores = learning_curve(\n",
        "    estimator=model_grid_search,  # Classifier model\n",
        "    X=X,  # Features\n",
        "    y=y,  # Target variable\n",
        "    scoring=\"accuracy\",  # Scoring metric for classification (e.g., accuracy)\n",
        "    train_sizes=[1, 75, 150, 270, 331]  # Training set sizes to compute the learning curve\n",
        ")\n",
        "\n",
        "# Plotting the learning curve with custom palette and grid style\n",
        "plt.plot(train_sizes, train_scores.mean(axis=1), label=\"Training\", color=palette[0])  # Plotting training scores with custom color\n",
        "plt.plot(train_sizes, test_scores.mean(axis=1), label=\"Validation\", color=palette[1])  # Plotting validation scores with custom color\n",
        "\n",
        "# Adding labels and title\n",
        "plt.title(\"Learning Curve\")  # Setting title\n",
        "plt.xlabel(\"Training Set Size\")  # Setting x-label\n",
        "plt.ylabel(\"Accuracy\")  # Setting y-label\n",
        "\n",
        "# Adding legend\n",
        "plt.legend(loc=\"best\")  # Placing legend at best position\n",
        "\n",
        "# Adding grid with custom style\n",
        "plt.grid(True, linestyle='--', linewidth=0.5)  # Adding grid with dashed lines and custom line width\n",
        "\n",
        "# Displaying the plot\n",
        "plt.show()"
      ]
    },
    {
      "cell_type": "markdown",
      "metadata": {},
      "source": [
        "Considerando la curva de aprendizaje y la métrica de precisión del modelo, resulta evidente que no se pueden ajustar los parámetros sin incurrir en un mayor sobreajuste. El modelo original, con una función de activación logística y tamaños de capas ocultas (3, 4), mostró una precisión de entrenamiento del 98.12%, con una precisión de prueba del 83.56%. Por su parte, tras el ajuste de parámetros se evidenció una precisión de entrenamiento del 99.23%, (elevándose en más de un 1%) y una precisión de prueba del 83.56%. A pesar del tuneo, la precisión en el conjunto de prueba sigue costante, por lo que ni siquiera valdría la pena."
      ]
    },
    {
      "cell_type": "markdown",
      "metadata": {},
      "source": [
        "### Third Iteration - Regression Models"
      ]
    },
    {
      "cell_type": "code",
      "execution_count": 34,
      "metadata": {},
      "outputs": [],
      "source": [
        "# Cargar y preparar los datos\n",
        "df_copy = pd.read_csv('./data/train.csv')\n",
        "\n",
        "# Limpieza de datos: reemplazar NaNs solo para columnas numéricas\n",
        "numeric_cols = df_copy.select_dtypes(include=[np.number])\n",
        "means = numeric_cols.mean()\n",
        "df_copy.fillna(means, inplace=True)\n",
        "\n",
        "# Reemplazar NaNs en columnas categóricas con el valor más frecuente o una categoría 'missing'\n",
        "categorical_cols = df_copy.select_dtypes(include=['object'])\n",
        "modes = categorical_cols.mode().iloc[0]\n",
        "df_copy.fillna(modes, inplace=True)\n",
        "\n",
        "# Selección de características y objetivo\n",
        "X = df_copy.drop('SalePrice', axis=1)\n",
        "y = df_copy['SalePrice']\n",
        "\n",
        "# One-hot encode para columnas categóricas\n",
        "X_encoded = pd.get_dummies(X)\n",
        "\n",
        "# Escalado de características\n",
        "scaler = StandardScaler()\n",
        "X_scaled = scaler.fit_transform(X_encoded)\n",
        "\n",
        "# División de los datos en entrenamiento y prueba\n",
        "X_train, X_test, y_train, y_test = train_test_split(X_scaled, y, test_size=0.2, random_state=42)\n",
        "\n",
        "# Verificación final para NaN o infinitos\n",
        "X_train = np.nan_to_num(X_train)\n",
        "y_train = np.nan_to_num(y_train)\n",
        "X_test = np.nan_to_num(X_test)\n",
        "y_test = np.nan_to_num(y_test)"
      ]
    },
    {
      "cell_type": "code",
      "execution_count": 35,
      "metadata": {},
      "outputs": [
        {
          "name": "stdout",
          "output_type": "stream",
          "text": [
            "Epoch 1/10\n"
          ]
        },
        {
          "name": "stderr",
          "output_type": "stream",
          "text": [
            "2024-05-06 10:57:01.887353: I external/local_xla/xla/stream_executor/cuda/cuda_executor.cc:998] successful NUMA node read from SysFS had negative value (-1), but there must be at least one NUMA node, so returning NUMA node zero. See more at https://github.com/torvalds/linux/blob/v6.0/Documentation/ABI/testing/sysfs-bus-pci#L344-L355\n",
            "2024-05-06 10:57:01.890228: W tensorflow/core/common_runtime/gpu/gpu_device.cc:2251] Cannot dlopen some GPU libraries. Please make sure the missing libraries mentioned above are installed properly if you would like to use GPU. Follow the guide at https://www.tensorflow.org/install/gpu for how to download and setup the required libraries for your platform.\n",
            "Skipping registering GPU devices...\n"
          ]
        },
        {
          "name": "stdout",
          "output_type": "stream",
          "text": [
            "\u001b[1m30/30\u001b[0m \u001b[32m━━━━━━━━━━━━━━━━━━━━\u001b[0m\u001b[37m\u001b[0m \u001b[1m2s\u001b[0m 12ms/step - loss: 38035623936.0000 - mae: 178676.6562 - val_loss: 37841829888.0000 - val_mae: 181101.4375\n",
            "Epoch 2/10\n",
            "\u001b[1m30/30\u001b[0m \u001b[32m━━━━━━━━━━━━━━━━━━━━\u001b[0m\u001b[37m\u001b[0m \u001b[1m0s\u001b[0m 4ms/step - loss: 37239488512.0000 - mae: 177548.2656 - val_loss: 37841682432.0000 - val_mae: 181101.1250\n",
            "Epoch 3/10\n",
            "\u001b[1m30/30\u001b[0m \u001b[32m━━━━━━━━━━━━━━━━━━━━\u001b[0m\u001b[37m\u001b[0m \u001b[1m0s\u001b[0m 4ms/step - loss: 38690623488.0000 - mae: 179872.1094 - val_loss: 37841522688.0000 - val_mae: 181100.7969\n",
            "Epoch 4/10\n",
            "\u001b[1m30/30\u001b[0m \u001b[32m━━━━━━━━━━━━━━━━━━━━\u001b[0m\u001b[37m\u001b[0m \u001b[1m0s\u001b[0m 4ms/step - loss: 38035308544.0000 - mae: 178691.3906 - val_loss: 37841354752.0000 - val_mae: 181100.4844\n",
            "Epoch 5/10\n",
            "\u001b[1m30/30\u001b[0m \u001b[32m━━━━━━━━━━━━━━━━━━━━\u001b[0m\u001b[37m\u001b[0m \u001b[1m0s\u001b[0m 4ms/step - loss: 40842936320.0000 - mae: 184801.6562 - val_loss: 37841166336.0000 - val_mae: 181100.0781\n",
            "Epoch 6/10\n",
            "\u001b[1m30/30\u001b[0m \u001b[32m━━━━━━━━━━━━━━━━━━━━\u001b[0m\u001b[37m\u001b[0m \u001b[1m0s\u001b[0m 4ms/step - loss: 39627776000.0000 - mae: 180919.2344 - val_loss: 37840973824.0000 - val_mae: 181099.7031\n",
            "Epoch 7/10\n",
            "\u001b[1m30/30\u001b[0m \u001b[32m━━━━━━━━━━━━━━━━━━━━\u001b[0m\u001b[37m\u001b[0m \u001b[1m0s\u001b[0m 4ms/step - loss: 40187621376.0000 - mae: 184146.1250 - val_loss: 37840756736.0000 - val_mae: 181099.2500\n",
            "Epoch 8/10\n",
            "\u001b[1m30/30\u001b[0m \u001b[32m━━━━━━━━━━━━━━━━━━━━\u001b[0m\u001b[37m\u001b[0m \u001b[1m0s\u001b[0m 4ms/step - loss: 37940912128.0000 - mae: 179755.6094 - val_loss: 37840519168.0000 - val_mae: 181098.7812\n",
            "Epoch 9/10\n",
            "\u001b[1m30/30\u001b[0m \u001b[32m━━━━━━━━━━━━━━━━━━━━\u001b[0m\u001b[37m\u001b[0m \u001b[1m0s\u001b[0m 4ms/step - loss: 38819934208.0000 - mae: 181195.2031 - val_loss: 37840257024.0000 - val_mae: 181098.2344\n",
            "Epoch 10/10\n",
            "\u001b[1m30/30\u001b[0m \u001b[32m━━━━━━━━━━━━━━━━━━━━\u001b[0m\u001b[37m\u001b[0m \u001b[1m0s\u001b[0m 4ms/step - loss: 40168955904.0000 - mae: 183103.4219 - val_loss: 37839962112.0000 - val_mae: 181097.6719\n",
            "Epoch 1/20\n",
            "\u001b[1m30/30\u001b[0m \u001b[32m━━━━━━━━━━━━━━━━━━━━\u001b[0m\u001b[37m\u001b[0m \u001b[1m2s\u001b[0m 13ms/step - loss: 38618734592.0000 - mae: 180057.5000 - val_loss: 37841514496.0000 - val_mae: 181100.4375\n",
            "Epoch 2/20\n",
            "\u001b[1m30/30\u001b[0m \u001b[32m━━━━━━━━━━━━━━━━━━━━\u001b[0m\u001b[37m\u001b[0m \u001b[1m0s\u001b[0m 5ms/step - loss: 38833811456.0000 - mae: 182237.1875 - val_loss: 37840580608.0000 - val_mae: 181097.9844\n",
            "Epoch 3/20\n",
            "\u001b[1m30/30\u001b[0m \u001b[32m━━━━━━━━━━━━━━━━━━━━\u001b[0m\u001b[37m\u001b[0m \u001b[1m0s\u001b[0m 5ms/step - loss: 37770735616.0000 - mae: 179205.3594 - val_loss: 37839167488.0000 - val_mae: 181094.3594\n",
            "Epoch 4/20\n",
            "\u001b[1m30/30\u001b[0m \u001b[32m━━━━━━━━━━━━━━━━━━━━\u001b[0m\u001b[37m\u001b[0m \u001b[1m0s\u001b[0m 5ms/step - loss: 40452866048.0000 - mae: 183911.5000 - val_loss: 37836894208.0000 - val_mae: 181088.7188\n",
            "Epoch 5/20\n",
            "\u001b[1m30/30\u001b[0m \u001b[32m━━━━━━━━━━━━━━━━━━━━\u001b[0m\u001b[37m\u001b[0m \u001b[1m0s\u001b[0m 5ms/step - loss: 38684626944.0000 - mae: 180857.2656 - val_loss: 37833146368.0000 - val_mae: 181079.7188\n",
            "Epoch 6/20\n",
            "\u001b[1m30/30\u001b[0m \u001b[32m━━━━━━━━━━━━━━━━━━━━\u001b[0m\u001b[37m\u001b[0m \u001b[1m0s\u001b[0m 5ms/step - loss: 37702086656.0000 - mae: 178564.0000 - val_loss: 37826936832.0000 - val_mae: 181065.2344\n",
            "Epoch 7/20\n",
            "\u001b[1m30/30\u001b[0m \u001b[32m━━━━━━━━━━━━━━━━━━━━\u001b[0m\u001b[37m\u001b[0m \u001b[1m0s\u001b[0m 5ms/step - loss: 39007293440.0000 - mae: 180895.3438 - val_loss: 37816688640.0000 - val_mae: 181042.1719\n",
            "Epoch 8/20\n",
            "\u001b[1m30/30\u001b[0m \u001b[32m━━━━━━━━━━━━━━━━━━━━\u001b[0m\u001b[37m\u001b[0m \u001b[1m0s\u001b[0m 5ms/step - loss: 38906687488.0000 - mae: 181039.9375 - val_loss: 37800755200.0000 - val_mae: 181007.0938\n",
            "Epoch 9/20\n",
            "\u001b[1m30/30\u001b[0m \u001b[32m━━━━━━━━━━━━━━━━━━━━\u001b[0m\u001b[37m\u001b[0m \u001b[1m0s\u001b[0m 5ms/step - loss: 40209514496.0000 - mae: 183529.6875 - val_loss: 37776678912.0000 - val_mae: 180955.1562\n",
            "Epoch 10/20\n",
            "\u001b[1m30/30\u001b[0m \u001b[32m━━━━━━━━━━━━━━━━━━━━\u001b[0m\u001b[37m\u001b[0m \u001b[1m0s\u001b[0m 5ms/step - loss: 42383880192.0000 - mae: 187536.9219 - val_loss: 37741395968.0000 - val_mae: 180880.1094\n",
            "Epoch 11/20\n",
            "\u001b[1m30/30\u001b[0m \u001b[32m━━━━━━━━━━━━━━━━━━━━\u001b[0m\u001b[37m\u001b[0m \u001b[1m0s\u001b[0m 5ms/step - loss: 37748576256.0000 - mae: 178620.1250 - val_loss: 37692055552.0000 - val_mae: 180775.8438\n",
            "Epoch 12/20\n",
            "\u001b[1m30/30\u001b[0m \u001b[32m━━━━━━━━━━━━━━━━━━━━\u001b[0m\u001b[37m\u001b[0m \u001b[1m0s\u001b[0m 5ms/step - loss: 36494000128.0000 - mae: 176865.0938 - val_loss: 37624627200.0000 - val_mae: 180634.1094\n",
            "Epoch 13/20\n",
            "\u001b[1m30/30\u001b[0m \u001b[32m━━━━━━━━━━━━━━━━━━━━\u001b[0m\u001b[37m\u001b[0m \u001b[1m0s\u001b[0m 5ms/step - loss: 40860139520.0000 - mae: 183120.6250 - val_loss: 37534740480.0000 - val_mae: 180446.1250\n",
            "Epoch 14/20\n",
            "\u001b[1m30/30\u001b[0m \u001b[32m━━━━━━━━━━━━━━━━━━━━\u001b[0m\u001b[37m\u001b[0m \u001b[1m0s\u001b[0m 5ms/step - loss: 42075111424.0000 - mae: 185092.0625 - val_loss: 37419433984.0000 - val_mae: 180205.4219\n",
            "Epoch 15/20\n",
            "\u001b[1m30/30\u001b[0m \u001b[32m━━━━━━━━━━━━━━━━━━━━\u001b[0m\u001b[37m\u001b[0m \u001b[1m0s\u001b[0m 5ms/step - loss: 39584219136.0000 - mae: 182949.0781 - val_loss: 37273452544.0000 - val_mae: 179900.3750\n",
            "Epoch 16/20\n",
            "\u001b[1m30/30\u001b[0m \u001b[32m━━━━━━━━━━━━━━━━━━━━\u001b[0m\u001b[37m\u001b[0m \u001b[1m0s\u001b[0m 5ms/step - loss: 38697775104.0000 - mae: 181026.8438 - val_loss: 37086998528.0000 - val_mae: 179510.8750\n",
            "Epoch 17/20\n",
            "\u001b[1m30/30\u001b[0m \u001b[32m━━━━━━━━━━━━━━━━━━━━\u001b[0m\u001b[37m\u001b[0m \u001b[1m0s\u001b[0m 5ms/step - loss: 38487351296.0000 - mae: 179825.8281 - val_loss: 36865064960.0000 - val_mae: 179046.0312\n",
            "Epoch 18/20\n",
            "\u001b[1m30/30\u001b[0m \u001b[32m━━━━━━━━━━━━━━━━━━━━\u001b[0m\u001b[37m\u001b[0m \u001b[1m0s\u001b[0m 5ms/step - loss: 37569204224.0000 - mae: 179107.1094 - val_loss: 36605124608.0000 - val_mae: 178498.7656\n",
            "Epoch 19/20\n",
            "\u001b[1m30/30\u001b[0m \u001b[32m━━━━━━━━━━━━━━━━━━━━\u001b[0m\u001b[37m\u001b[0m \u001b[1m0s\u001b[0m 5ms/step - loss: 38249345024.0000 - mae: 179539.2500 - val_loss: 36284022784.0000 - val_mae: 177821.2344\n",
            "Epoch 20/20\n",
            "\u001b[1m30/30\u001b[0m \u001b[32m━━━━━━━━━━━━━━━━━━━━\u001b[0m\u001b[37m\u001b[0m \u001b[1m0s\u001b[0m 5ms/step - loss: 37799219200.0000 - mae: 179187.8594 - val_loss: 35918229504.0000 - val_mae: 177043.7812\n"
          ]
        },
        {
          "data": {
            "text/plain": [
              "<keras.src.callbacks.history.History at 0x7f2ee77eee30>"
            ]
          },
          "execution_count": 35,
          "metadata": {},
          "output_type": "execute_result"
        }
      ],
      "source": [
        "# Modelo 1: Red Neuronal Simple\n",
        "model_1 = Sequential([\n",
        "    Dense(128, activation='relu', input_shape=(X_train.shape[1],)),\n",
        "    Dense(1)\n",
        "])\n",
        "\n",
        "optimizer_1 = Adam(learning_rate=0.0001)  # Optimizador con tasa de aprendizaje más baja\n",
        "model_1.compile(optimizer=optimizer_1, loss='mse', metrics=['mae'])\n",
        "model_1.fit(X_train, y_train, epochs=10, batch_size=32, validation_split=0.2)\n",
        "\n",
        "# Modelo 2: Red Neuronal Más Compleja\n",
        "model_2 = Sequential([\n",
        "    Dense(256, activation='relu', input_shape=(X_train.shape[1],)),\n",
        "    Dense(128, activation='relu'),  # Uso de relu en lugar de tanh para mejorar la estabilidad\n",
        "    Dense(64, activation='relu'),\n",
        "    Dense(1)\n",
        "])\n",
        "\n",
        "optimizer_2 = Adam(learning_rate=0.0001)  # Optimizador con tasa de aprendizaje más baja\n",
        "model_2.compile(optimizer=optimizer_2, loss='mse', metrics=['mae'])\n",
        "model_2.fit(X_train, y_train, epochs=20, batch_size=32, validation_split=0.2)"
      ]
    },
    {
      "cell_type": "markdown",
      "metadata": {},
      "source": [
        "### Comparación entre modelos\n",
        "**Modelo 1**\n",
        "- Comenzó con una pérdida de 39,729,885,184 y un MAE de 182,927 en la primera época.\n",
        "- La pérdida y el MAE disminuyeron ligeramente a lo largo de las 10 épocas, terminando en 37,839,998,976 y 181,097 respectivamente.\n",
        "\n",
        "**Modelo 2**\n",
        "- Comenzó con una pérdida de 38,345,379,840 y un MAE de 180,814 en la primera época.\n",
        "- Mostró una mejora más significativa y consistente a lo largo de las 20 épocas, terminando con una pérdida de 35,780,710,400 y un MAE de 176,674.\n",
        "\n",
        "El Modelo 2 parece funcionar mejor en la predicción de los precios de las casas, como lo indican las menores y decrecientes cifras de pérdida y MAE, especialmente hacia el final de las 20 épocas. Este modelo no solo aprende más efectivamente, sino que también muestra una capacidad mejorada para generalizar, dado que la pérdida y el MAE en la validación siguen disminuyendo sin signos evidentes de sobreajuste."
      ]
    },
    {
      "cell_type": "markdown",
      "metadata": {},
      "source": [
        "Define custom color palette\n",
        "palette = sns.color_palette(\"viridis\", 2)\n",
        "\n",
        "Computing learning curve\n",
        "train_sizes, train_scores, test_scores = learning_curve(\n",
        "    estimator=model_grid_search,  # MLP model\n",
        "    X=X,  # Features\n",
        "    y=y,  # Target variable\n",
        "    scoring=\"neg_root_mean_squared_error\",  # Scoring metric\n",
        "    train_sizes=[1, 75, 150, 270, 331]  # Training set sizes to compute the learning curve\n",
        ")\n",
        "\n",
        "Computing mean scores\n",
        "train_mean = -train_scores.mean(axis=1)  # Taking negative mean of train scores\n",
        "test_mean = -test_scores.mean(axis=1)  # Taking negative mean of test scores\n",
        "\n",
        "Plotting the learning curve with custom palette and grid style\n",
        "plt.plot(train_sizes, train_mean, label=\"Training\", color=palette[0])  # Plotting training scores with custom color\n",
        "plt.plot(train_sizes, test_mean, label=\"Validation\", color=palette[1])  # Plotting validation scores with custom color\n",
        "\n",
        "Adding labels and title\n",
        "plt.title(\"Learning Curve\")  # Setting title\n",
        "plt.xlabel(\"Training Set Size\")  # Setting x-label\n",
        "plt.ylabel(\"RMSE\")  # Setting y-label\n",
        "\n",
        "Adding legend\n",
        "plt.legend(loc=\"best\")  # Placing legend at best position\n",
        "\n",
        "Adding grid with custom style\n",
        "plt.grid(True, linestyle='--', linewidth=0.5)  # Adding grid with dashed lines and custom line width\n",
        "\n",
        "Displaying the plot\n",
        "plt.show()"
      ]
    },
    {
      "cell_type": "markdown",
      "metadata": {},
      "source": []
    }
  ],
  "metadata": {
    "colab": {
      "collapsed_sections": [
        "mj_9IHB5JRMY",
        "Cw0Pik6O9ppQ"
      ],
      "provenance": []
    },
    "kernelspec": {
      "display_name": "Python 3",
      "name": "python3"
    },
    "language_info": {
      "codemirror_mode": {
        "name": "ipython",
        "version": 3
      },
      "file_extension": ".py",
      "mimetype": "text/x-python",
      "name": "python",
      "nbconvert_exporter": "python",
      "pygments_lexer": "ipython3",
      "version": "3.10.12"
    }
  },
  "nbformat": 4,
  "nbformat_minor": 0
}
